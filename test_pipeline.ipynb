{
 "cells": [
  {
   "cell_type": "code",
   "execution_count": 1,
   "id": "9b699210",
   "metadata": {},
   "outputs": [
    {
     "name": "stdout",
     "output_type": "stream",
     "text": [
      "                                              textos  labels\n",
      "0  \"Aprendizaje\" y \"educación\" se consideran sinó...       4\n",
      "1  Para los niños más pequeños (bebés y niños peq...       4\n",
      "2  Además, la formación de especialistas en medic...       3\n",
      "3  En los países de la OCDE se tiende a pasar de ...       4\n",
      "4  Este grupo se centró en las personas que padec...       3\n",
      "<class 'sklearn.pipeline.Pipeline'>\n"
     ]
    }
   ],
   "source": [
    "import cloudpickle\n",
    "import pandas as pd\n",
    "from sklearn.pipeline import Pipeline\n",
    "\n",
    "with open('pipeline.cloudpkl', 'rb') as f:\n",
    "    loaded_pipeline = cloudpickle.load(f)\n",
    "\n",
    "df_nuevo = pd.read_excel(r\"datos/Datos_proyecto.xlsx\")\n",
    "print(df_nuevo.head())\n",
    "print(type(loaded_pipeline))\n"
   ]
  },
  {
   "cell_type": "code",
   "execution_count": 4,
   "id": "b13fa8fd",
   "metadata": {},
   "outputs": [],
   "source": [
    "from sklearn.model_selection import train_test_split"
   ]
  },
  {
   "cell_type": "code",
   "execution_count": 6,
   "id": "0bcf6b79",
   "metadata": {},
   "outputs": [
    {
     "name": "stdout",
     "output_type": "stream",
     "text": [
      "Accuracy: 0.9752747252747253\n",
      "F1 Score (macro): 0.9721977831629459\n",
      "\n",
      "Reporte de clasificación:\n",
      "               precision    recall  f1-score   support\n",
      "\n",
      "           1       0.97      0.94      0.96       157\n",
      "           3       0.96      0.99      0.97       255\n",
      "           4       0.99      0.98      0.99       316\n",
      "\n",
      "    accuracy                           0.98       728\n",
      "   macro avg       0.97      0.97      0.97       728\n",
      "weighted avg       0.98      0.98      0.98       728\n",
      "\n",
      "\n",
      "Matriz de confusión:\n",
      " [[148   7   2]\n",
      " [  2 252   1]\n",
      " [  2   4 310]]\n"
     ]
    }
   ],
   "source": [
    "X = df_nuevo[\"textos\"]\n",
    "y = df_nuevo[\"labels\"]\n",
    "X_train_text, X_test_text, y_train, y_test = train_test_split(X, y, test_size=0.3, random_state=42)\n",
    "loaded_pipeline.fit(X_train_text, y_train)\n",
    "y_pred = loaded_pipeline.predict(X_test_text)\n",
    "from sklearn.metrics import classification_report, confusion_matrix, f1_score, accuracy_score\n",
    "\n",
    "print(\"Accuracy:\", accuracy_score(y_test, y_pred))\n",
    "print(\"F1 Score (macro):\", f1_score(y_test, y_pred, average=\"macro\"))\n",
    "print(\"\\nReporte de clasificación:\\n\", classification_report(y_test, y_pred))\n",
    "print(\"\\nMatriz de confusión:\\n\", confusion_matrix(y_test, y_pred))\n"
   ]
  }
 ],
 "metadata": {
  "kernelspec": {
   "display_name": "BI",
   "language": "python",
   "name": "python3"
  },
  "language_info": {
   "codemirror_mode": {
    "name": "ipython",
    "version": 3
   },
   "file_extension": ".py",
   "mimetype": "text/x-python",
   "name": "python",
   "nbconvert_exporter": "python",
   "pygments_lexer": "ipython3",
   "version": "3.12.3"
  }
 },
 "nbformat": 4,
 "nbformat_minor": 5
}
