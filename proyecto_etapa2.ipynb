{
 "cells": [
  {
   "cell_type": "code",
   "execution_count": 329,
   "id": "796d30d7",
   "metadata": {},
   "outputs": [],
   "source": [
    "import pandas as pd\n",
    "import numpy as np\n",
    "import seaborn as sns\n",
    "import matplotlib.pyplot as plt\n",
    "import nltk\n",
    "import re\n",
    "\n",
    "from langdetect import detect\n",
    "from scipy.stats import f_oneway\n",
    "from collections import Counter\n",
    "\n",
    "nltk.download(\"stopwords\", quiet=True)\n",
    "\n",
    "from nltk.stem.snowball import SpanishStemmer\n",
    "from sklearn.feature_extraction.text import CountVectorizer, TfidfVectorizer\n",
    "from sklearn.model_selection import train_test_split, GridSearchCV\n",
    "from sklearn.metrics import (\n",
    "    classification_report,\n",
    "    f1_score,\n",
    "    precision_score,\n",
    "    recall_score,\n",
    "    confusion_matrix,\n",
    "    ConfusionMatrixDisplay,\n",
    ")\n",
    "from sklearn.linear_model import LogisticRegression"
   ]
  },
  {
   "cell_type": "code",
   "execution_count": 330,
   "id": "46fb600b",
   "metadata": {},
   "outputs": [
    {
     "data": {
      "text/html": [
       "<div>\n",
       "<style scoped>\n",
       "    .dataframe tbody tr th:only-of-type {\n",
       "        vertical-align: middle;\n",
       "    }\n",
       "\n",
       "    .dataframe tbody tr th {\n",
       "        vertical-align: top;\n",
       "    }\n",
       "\n",
       "    .dataframe thead th {\n",
       "        text-align: right;\n",
       "    }\n",
       "</style>\n",
       "<table border=\"1\" class=\"dataframe\">\n",
       "  <thead>\n",
       "    <tr style=\"text-align: right;\">\n",
       "      <th></th>\n",
       "      <th>textos</th>\n",
       "      <th>labels</th>\n",
       "    </tr>\n",
       "  </thead>\n",
       "  <tbody>\n",
       "    <tr>\n",
       "      <th>0</th>\n",
       "      <td>\"Aprendizaje\" y \"educación\" se consideran sinó...</td>\n",
       "      <td>4</td>\n",
       "    </tr>\n",
       "    <tr>\n",
       "      <th>1</th>\n",
       "      <td>Para los niños más pequeños (bebés y niños peq...</td>\n",
       "      <td>4</td>\n",
       "    </tr>\n",
       "    <tr>\n",
       "      <th>2</th>\n",
       "      <td>Además, la formación de especialistas en medic...</td>\n",
       "      <td>3</td>\n",
       "    </tr>\n",
       "    <tr>\n",
       "      <th>3</th>\n",
       "      <td>En los países de la OCDE se tiende a pasar de ...</td>\n",
       "      <td>4</td>\n",
       "    </tr>\n",
       "    <tr>\n",
       "      <th>4</th>\n",
       "      <td>Este grupo se centró en las personas que padec...</td>\n",
       "      <td>3</td>\n",
       "    </tr>\n",
       "  </tbody>\n",
       "</table>\n",
       "</div>"
      ],
      "text/plain": [
       "                                              textos  labels\n",
       "0  \"Aprendizaje\" y \"educación\" se consideran sinó...       4\n",
       "1  Para los niños más pequeños (bebés y niños peq...       4\n",
       "2  Además, la formación de especialistas en medic...       3\n",
       "3  En los países de la OCDE se tiende a pasar de ...       4\n",
       "4  Este grupo se centró en las personas que padec...       3"
      ]
     },
     "execution_count": 330,
     "metadata": {},
     "output_type": "execute_result"
    }
   ],
   "source": [
    "df_data = pd.read_excel(r\"datos/Datos_proyecto.xlsx\")\n",
    "df_data.head()"
   ]
  },
  {
   "cell_type": "markdown",
   "id": "b6b86b67",
   "metadata": {},
   "source": [
    "# 1.1 Calidad de datos"
   ]
  },
  {
   "cell_type": "code",
   "execution_count": 331,
   "id": "fb91c98c",
   "metadata": {},
   "outputs": [
    {
     "name": "stdout",
     "output_type": "stream",
     "text": [
      "<class 'pandas.core.frame.DataFrame'>\n",
      "RangeIndex: 2424 entries, 0 to 2423\n",
      "Data columns (total 2 columns):\n",
      " #   Column  Non-Null Count  Dtype \n",
      "---  ------  --------------  ----- \n",
      " 0   textos  2424 non-null   object\n",
      " 1   labels  2424 non-null   int64 \n",
      "dtypes: int64(1), object(1)\n",
      "memory usage: 38.0+ KB\n"
     ]
    }
   ],
   "source": [
    "#Completitud\n",
    "\n",
    "df_data.info()"
   ]
  },
  {
   "cell_type": "code",
   "execution_count": 332,
   "id": "56ea8ec1",
   "metadata": {},
   "outputs": [
    {
     "name": "stdout",
     "output_type": "stream",
     "text": [
      "===Count==\n",
      "textos    2424\n",
      "labels    2424\n",
      "dtype: int64\n",
      "==Datos Nulos==\n",
      "textos    0\n",
      "labels    0\n",
      "dtype: int64\n",
      "==Eliminar filas sin texto o etiqueta==\n",
      "textos    2424\n",
      "labels    2424\n",
      "dtype: int64\n",
      "==verificar si hay textos con strings vacíos==\n",
      "Número de textos vacíos: 0\n",
      "==Unicidad==\n",
      "Duplicados encontrados: 0\n",
      "== Eliminar duplicados exactos (mismo texto y misma etiqueta ==\n"
     ]
    },
    {
     "data": {
      "text/plain": [
       "textos    2424\n",
       "labels    2424\n",
       "dtype: int64"
      ]
     },
     "execution_count": 332,
     "metadata": {},
     "output_type": "execute_result"
    }
   ],
   "source": [
    "print(\"===Count==\")\n",
    "print(df_data.count())\n",
    "# Valores nulos por columna\n",
    "print(\"==Datos Nulos==\")\n",
    "print(df_data.isnull().sum())\n",
    "\n",
    "print(\"==Eliminar filas sin texto o etiqueta==\")\n",
    "df = df_data.dropna(subset=[\"textos\", \"labels\"])\n",
    "print(df.count())\n",
    "\n",
    "print(\"==verificar si hay textos con strings vacíos==\")\n",
    "num_empty = (df[\"textos\"].str.strip() == \"\").sum()\n",
    "print(\"Número de textos vacíos:\", num_empty)\n",
    "\n",
    "print(\"==Unicidad==\")\n",
    "duplicados = df.duplicated(subset=[\"textos\"])\n",
    "print(f\"Duplicados encontrados: {duplicados.sum()}\")\n",
    "\n",
    "print(\"== Eliminar duplicados exactos (mismo texto y misma etiqueta ==\")\n",
    "df = df.drop_duplicates(subset=[\"textos\", \"labels\"])\n",
    "df.count()\n"
   ]
  },
  {
   "cell_type": "code",
   "execution_count": 333,
   "id": "2e7f89a5",
   "metadata": {},
   "outputs": [
    {
     "name": "stdout",
     "output_type": "stream",
     "text": [
      "0\n"
     ]
    }
   ],
   "source": [
    "# se demora alrededor de 20 segundos\n",
    "def detect_language(text):\n",
    "    try:\n",
    "        return detect(text)\n",
    "    except:\n",
    "        return \"unknown\"\n",
    "\n",
    "\n",
    "df[\"language\"] = df[\"textos\"].apply(detect_language)\n",
    "\n",
    "print(len(df[df[\"language\"] != \"es\"]))"
   ]
  },
  {
   "cell_type": "code",
   "execution_count": 334,
   "id": "57ea2179",
   "metadata": {},
   "outputs": [
    {
     "data": {
      "text/plain": [
       "array([4, 3, 1], dtype=int64)"
      ]
     },
     "execution_count": 334,
     "metadata": {},
     "output_type": "execute_result"
    }
   ],
   "source": [
    "# clases en el datset\n",
    "df[\"labels\"].unique()"
   ]
  },
  {
   "cell_type": "code",
   "execution_count": 335,
   "id": "99ef69e9",
   "metadata": {},
   "outputs": [],
   "source": [
    "df = df.drop(columns=[\"language\"])"
   ]
  },
  {
   "cell_type": "code",
   "execution_count": 336,
   "id": "6e96b1bb",
   "metadata": {},
   "outputs": [],
   "source": [
    "df[\"word_count\"] = df[\"textos\"].apply(lambda x: len(str(x).split()))"
   ]
  },
  {
   "cell_type": "code",
   "execution_count": 337,
   "id": "c0f243bc",
   "metadata": {},
   "outputs": [
    {
     "data": {
      "image/png": "[encoded data removed]",
      "text/plain": [
       "<Figure size 640x480 with 1 Axes>"
      ]
     },
     "metadata": {},
     "output_type": "display_data"
    }
   ],
   "source": [
    "plt.boxplot(df[\"word_count\"])\n",
    "plt.title(\"Boxplot del número de palabras\")\n",
    "plt.ylabel(\"# de palabras\")\n",
    "plt.show()"
   ]
  },
  {
   "cell_type": "code",
   "execution_count": 338,
   "id": "9d70ed54",
   "metadata": {},
   "outputs": [],
   "source": [
    "wpt = nltk.WordPunctTokenizer()\n",
    "stop_words = set(nltk.corpus.stopwords.words(\"spanish\"))\n",
    "\n",
    "spanish_stemmer = SpanishStemmer()\n",
    "\n",
    "\n",
    "def tokenize_text(text, stem=True):\n",
    "    # Elimina caracteres especiales y espacios en blanco\n",
    "    doc = re.sub(r\"[^A-Za-zÁÉÍÓÚáéíóúÜüÑñ\\s]\", \"\", text, flags=re.U)  # Unicode aware\n",
    "    doc = doc.lower()\n",
    "    doc = doc.strip()\n",
    "    # Tokenizar documento\n",
    "    tokens = wpt.tokenize(doc)\n",
    "    # Filtrar palabras\n",
    "    filtered_tokens = [\n",
    "        spanish_stemmer.stem(token) if stem else token\n",
    "        for token in tokens\n",
    "        if token not in stop_words\n",
    "    ]\n",
    "    # Recrear documento de texto\n",
    "    doc = \" \".join(filtered_tokens)\n",
    "    return doc, filtered_tokens\n",
    "\n",
    "\n",
    "normalized_df = df.copy()\n",
    "normalized_df[[\"tokenized_text\", \"tokens\"]] = normalized_df[\"textos\"].apply(\n",
    "    lambda x: pd.Series(tokenize_text(x, stem=False))\n",
    ")\n",
    "\n",
    "# recalcular word_count\n",
    "normalized_df[\"word_count\"] = normalized_df[\"textos\"].apply(\n",
    "    lambda x: len(str(x).split())\n",
    ")"
   ]
  },
  {
   "cell_type": "code",
   "execution_count": 339,
   "id": "c516a1b6",
   "metadata": {},
   "outputs": [
    {
     "data": {
      "text/html": [
       "<div>\n",
       "<style scoped>\n",
       "    .dataframe tbody tr th:only-of-type {\n",
       "        vertical-align: middle;\n",
       "    }\n",
       "\n",
       "    .dataframe tbody tr th {\n",
       "        vertical-align: top;\n",
       "    }\n",
       "\n",
       "    .dataframe thead th {\n",
       "        text-align: right;\n",
       "    }\n",
       "</style>\n",
       "<table border=\"1\" class=\"dataframe\">\n",
       "  <thead>\n",
       "    <tr style=\"text-align: right;\">\n",
       "      <th></th>\n",
       "      <th>textos</th>\n",
       "      <th>labels</th>\n",
       "      <th>word_count</th>\n",
       "      <th>tokenized_text</th>\n",
       "      <th>tokens</th>\n",
       "    </tr>\n",
       "  </thead>\n",
       "  <tbody>\n",
       "    <tr>\n",
       "      <th>0</th>\n",
       "      <td>\"Aprendizaje\" y \"educación\" se consideran sinó...</td>\n",
       "      <td>4</td>\n",
       "      <td>48</td>\n",
       "      <td>aprendizaje educación consideran sinónimos esc...</td>\n",
       "      <td>[aprendizaje, educación, consideran, sinónimos...</td>\n",
       "    </tr>\n",
       "    <tr>\n",
       "      <th>1</th>\n",
       "      <td>Para los niños más pequeños (bebés y niños peq...</td>\n",
       "      <td>4</td>\n",
       "      <td>72</td>\n",
       "      <td>niños pequeños bebés niños pequeños capacitaci...</td>\n",
       "      <td>[niños, pequeños, bebés, niños, pequeños, capa...</td>\n",
       "    </tr>\n",
       "    <tr>\n",
       "      <th>2</th>\n",
       "      <td>Además, la formación de especialistas en medic...</td>\n",
       "      <td>3</td>\n",
       "      <td>93</td>\n",
       "      <td>además formación especialistas medicina genera...</td>\n",
       "      <td>[además, formación, especialistas, medicina, g...</td>\n",
       "    </tr>\n",
       "    <tr>\n",
       "      <th>3</th>\n",
       "      <td>En los países de la OCDE se tiende a pasar de ...</td>\n",
       "      <td>4</td>\n",
       "      <td>109</td>\n",
       "      <td>países ocde tiende pasar cursos obligatorios o...</td>\n",
       "      <td>[países, ocde, tiende, pasar, cursos, obligato...</td>\n",
       "    </tr>\n",
       "    <tr>\n",
       "      <th>4</th>\n",
       "      <td>Este grupo se centró en las personas que padec...</td>\n",
       "      <td>3</td>\n",
       "      <td>94</td>\n",
       "      <td>grupo centró personas padecen trastornos menta...</td>\n",
       "      <td>[grupo, centró, personas, padecen, trastornos,...</td>\n",
       "    </tr>\n",
       "  </tbody>\n",
       "</table>\n",
       "</div>"
      ],
      "text/plain": [
       "                                              textos  labels  word_count  \\\n",
       "0  \"Aprendizaje\" y \"educación\" se consideran sinó...       4          48   \n",
       "1  Para los niños más pequeños (bebés y niños peq...       4          72   \n",
       "2  Además, la formación de especialistas en medic...       3          93   \n",
       "3  En los países de la OCDE se tiende a pasar de ...       4         109   \n",
       "4  Este grupo se centró en las personas que padec...       3          94   \n",
       "\n",
       "                                      tokenized_text  \\\n",
       "0  aprendizaje educación consideran sinónimos esc...   \n",
       "1  niños pequeños bebés niños pequeños capacitaci...   \n",
       "2  además formación especialistas medicina genera...   \n",
       "3  países ocde tiende pasar cursos obligatorios o...   \n",
       "4  grupo centró personas padecen trastornos menta...   \n",
       "\n",
       "                                              tokens  \n",
       "0  [aprendizaje, educación, consideran, sinónimos...  \n",
       "1  [niños, pequeños, bebés, niños, pequeños, capa...  \n",
       "2  [además, formación, especialistas, medicina, g...  \n",
       "3  [países, ocde, tiende, pasar, cursos, obligato...  \n",
       "4  [grupo, centró, personas, padecen, trastornos,...  "
      ]
     },
     "execution_count": 339,
     "metadata": {},
     "output_type": "execute_result"
    }
   ],
   "source": [
    "normalized_df.head()"
   ]
  },
  {
   "cell_type": "code",
   "execution_count": 340,
   "id": "ed33dee1",
   "metadata": {},
   "outputs": [
    {
     "name": "stdout",
     "output_type": "stream",
     "text": [
      "Distribución de clases:\n",
      "        cantidad  porcentaje\n",
      "labels                      \n",
      "4           1025        0.42\n",
      "3            894        0.37\n",
      "1            505        0.21\n"
     ]
    }
   ],
   "source": [
    "# 9. Distribución de etiquetas\n",
    "print(\"Distribución de clases:\")\n",
    "dist_df = pd.DataFrame(\n",
    "    {\n",
    "        \"cantidad\": df[\"labels\"].value_counts(),\n",
    "        \"porcentaje\": round(df[\"labels\"].value_counts() / len(df), 2),\n",
    "    }\n",
    ")\n",
    "print(dist_df)"
   ]
  },
  {
   "cell_type": "code",
   "execution_count": 341,
   "id": "09f24faf",
   "metadata": {},
   "outputs": [],
   "source": [
    "colors = {1: \"#1D8F97\", 3: \"#9bd137\", 4: \"#DA2C38\"}"
   ]
  },
  {
   "cell_type": "code",
   "execution_count": 342,
   "id": "389af3c2",
   "metadata": {},
   "outputs": [
    {
     "data": {
      "image/png": "[encoded data removed]",
      "text/plain": [
       "<Figure size 640x480 with 1 Axes>"
      ]
     },
     "metadata": {},
     "output_type": "display_data"
    }
   ],
   "source": [
    "value_counts = df[\"labels\"].value_counts()\n",
    "x_values = value_counts.index\n",
    "y_values = value_counts.values\n",
    "\n",
    "sns.barplot(x=x_values, y=y_values, palette=colors, hue=x_values, legend=False)\n",
    "\n",
    "plt.title(\"Distribución de Clases\")\n",
    "plt.xlabel(\"Clases\")\n",
    "plt.ylabel(\"Frecuencia\")\n",
    "plt.show()"
   ]
  },
  {
   "cell_type": "code",
   "execution_count": 343,
   "id": "6c2c5c43",
   "metadata": {},
   "outputs": [],
   "source": [
    "X = normalized_df[\"tokenized_text\"]\n",
    "y = normalized_df[\"labels\"]\n",
    "X_train_text, X_test_text, y_train, y_test = train_test_split(\n",
    "    X, y, test_size=0.15, random_state=42\n",
    ")"
   ]
  },
  {
   "cell_type": "code",
   "execution_count": 344,
   "id": "ca07f0e2",
   "metadata": {},
   "outputs": [],
   "source": [
    "vectorizer_ngram = CountVectorizer(ngram_range=(1, 1))\n",
    "X_train = vectorizer_ngram.fit_transform(X_train_text.fillna(\"\"))\n",
    "X_test = vectorizer_ngram.transform(X_test_text.fillna(\"\"))\n",
    "\n",
    "best_model = LogisticRegression(max_iter=1000, random_state=42)\n",
    "\n",
    "best_model.fit(X_train, y_train)\n",
    "\n",
    "y_preds = best_model.predict(X_test)"
   ]
  },
  {
   "cell_type": "code",
   "execution_count": 345,
   "id": "bcaaba36",
   "metadata": {},
   "outputs": [
    {
     "data": {
      "image/png": "[encoded data removed]",
      "text/plain": [
       "<Figure size 800x600 with 2 Axes>"
      ]
     },
     "metadata": {},
     "output_type": "display_data"
    }
   ],
   "source": [
    "\n",
    "from matplotlib.colors import LinearSegmentedColormap\n",
    "\n",
    "# Crear colormap personalizado con los colores especificados que se usan en la ppt\n",
    "colors = ['#FFFFFF', '#AEEA00', '#219A0B', '#0B4944']\n",
    "custom_cmap = LinearSegmentedColormap.from_list('custom', colors, N=256)\n",
    "\n",
    "cm = confusion_matrix(y_test, y_preds)\n",
    "\n",
    "# Visualización 1: Usando ConfusionMatrixDisplay de sklearn\n",
    "fig, ax = plt.subplots(figsize=(8, 6))\n",
    "disp = ConfusionMatrixDisplay(\n",
    "    confusion_matrix=cm, display_labels=[\"ODS 1\", \"ODS 3\", \"ODS 4\"]\n",
    ")\n",
    "disp.plot(cmap=custom_cmap, values_format=\"d\", ax=ax)\n",
    "plt.title(\n",
    "    \"Matriz de Confusión - Logistic Regression con Unigramas\",\n",
    "    fontsize=14,\n",
    "    fontweight=\"bold\",\n",
    ")\n",
    "plt.tight_layout()\n",
    "plt.show()"
   ]
  },
  {
   "cell_type": "code",
   "execution_count": 346,
   "id": "892b7bb4",
   "metadata": {},
   "outputs": [
    {
     "name": "stdout",
     "output_type": "stream",
     "text": [
      "10-Fold Cross Validation Results:\n",
      "F1-Score: 0.9715 (+/- 0.0273)\n",
      "Precision: 0.9748 (+/- 0.0248)\n",
      "Recall: 0.9687 (+/- 0.0303)\n"
     ]
    }
   ],
   "source": [
    "from sklearn.model_selection import cross_val_score\n",
    "\n",
    "# validación cruzada con 10 folds\n",
    "cv_scores_f1 = cross_val_score(best_model, X_train, y_train, cv=10, scoring='f1_macro')\n",
    "cv_scores_precision = cross_val_score(best_model, X_train, y_train, cv=10, scoring='precision_macro')\n",
    "cv_scores_recall = cross_val_score(best_model, X_train, y_train, cv=10, scoring='recall_macro')\n",
    "\n",
    "print(\"10-Fold Cross Validation Results:\")\n",
    "print(f\"F1-Score: {cv_scores_f1.mean():.4f} (+/- {cv_scores_f1.std() * 2:.4f})\")\n",
    "print(f\"Precision: {cv_scores_precision.mean():.4f} (+/- {cv_scores_precision.std() * 2:.4f})\")\n",
    "print(f\"Recall: {cv_scores_recall.mean():.4f} (+/- {cv_scores_recall.std() * 2:.4f})\")"
   ]
  },
  {
   "cell_type": "markdown",
   "id": "a8dc4511",
   "metadata": {},
   "source": [
    "# Validación nuevos Datos"
   ]
  },
  {
   "cell_type": "code",
   "execution_count": 347,
   "id": "c5895071",
   "metadata": {},
   "outputs": [
    {
     "data": {
      "text/html": [
       "<div>\n",
       "<style scoped>\n",
       "    .dataframe tbody tr th:only-of-type {\n",
       "        vertical-align: middle;\n",
       "    }\n",
       "\n",
       "    .dataframe tbody tr th {\n",
       "        vertical-align: top;\n",
       "    }\n",
       "\n",
       "    .dataframe thead th {\n",
       "        text-align: right;\n",
       "    }\n",
       "</style>\n",
       "<table border=\"1\" class=\"dataframe\">\n",
       "  <thead>\n",
       "    <tr style=\"text-align: right;\">\n",
       "      <th></th>\n",
       "      <th>textos</th>\n",
       "      <th>labels</th>\n",
       "    </tr>\n",
       "  </thead>\n",
       "  <tbody>\n",
       "    <tr>\n",
       "      <th>0</th>\n",
       "      <td>La definición de privación está basada en el m...</td>\n",
       "      <td>1</td>\n",
       "    </tr>\n",
       "    <tr>\n",
       "      <th>1</th>\n",
       "      <td>La mayoría de los programas de protección soci...</td>\n",
       "      <td>1</td>\n",
       "    </tr>\n",
       "    <tr>\n",
       "      <th>2</th>\n",
       "      <td>Esto es dos veces y media mayor que la partici...</td>\n",
       "      <td>1</td>\n",
       "    </tr>\n",
       "    <tr>\n",
       "      <th>3</th>\n",
       "      <td>El enfoque aquí está en los aspectos de la pob...</td>\n",
       "      <td>1</td>\n",
       "    </tr>\n",
       "    <tr>\n",
       "      <th>4</th>\n",
       "      <td>El factor educativo representa una mayor contr...</td>\n",
       "      <td>1</td>\n",
       "    </tr>\n",
       "  </tbody>\n",
       "</table>\n",
       "</div>"
      ],
      "text/plain": [
       "                                              textos  labels\n",
       "0  La definición de privación está basada en el m...       1\n",
       "1  La mayoría de los programas de protección soci...       1\n",
       "2  Esto es dos veces y media mayor que la partici...       1\n",
       "3  El enfoque aquí está en los aspectos de la pob...       1\n",
       "4  El factor educativo representa una mayor contr...       1"
      ]
     },
     "execution_count": 347,
     "metadata": {},
     "output_type": "execute_result"
    }
   ],
   "source": [
    "df_data_2 = pd.read_excel(r\"datos/Datos_etapa 2.xlsx\")\n",
    "df_data_2.head()"
   ]
  },
  {
   "cell_type": "code",
   "execution_count": 348,
   "id": "085733f3",
   "metadata": {},
   "outputs": [
    {
     "name": "stdout",
     "output_type": "stream",
     "text": [
      "<class 'pandas.core.frame.DataFrame'>\n",
      "RangeIndex: 99 entries, 0 to 98\n",
      "Data columns (total 2 columns):\n",
      " #   Column  Non-Null Count  Dtype \n",
      "---  ------  --------------  ----- \n",
      " 0   textos  99 non-null     object\n",
      " 1   labels  99 non-null     int64 \n",
      "dtypes: int64(1), object(1)\n",
      "memory usage: 1.7+ KB\n"
     ]
    }
   ],
   "source": [
    "#Completitud\n",
    "\n",
    "df_data_2.info()"
   ]
  },
  {
   "cell_type": "code",
   "execution_count": 349,
   "id": "4f9fc2bd",
   "metadata": {},
   "outputs": [
    {
     "name": "stdout",
     "output_type": "stream",
     "text": [
      "===Count==\n",
      "textos    99\n",
      "labels    99\n",
      "dtype: int64\n",
      "==Datos Nulos==\n",
      "textos    0\n",
      "labels    0\n",
      "dtype: int64\n",
      "==Eliminar filas sin texto o etiqueta==\n",
      "textos    99\n",
      "labels    99\n",
      "dtype: int64\n",
      "==verificar si hay textos con strings vacíos==\n",
      "Número de textos vacíos: 0\n",
      "==Unicidad==\n",
      "Duplicados encontrados: 0\n",
      "== Eliminar duplicados exactos (mismo texto y misma etiqueta ==\n"
     ]
    },
    {
     "data": {
      "text/plain": [
       "textos    99\n",
       "labels    99\n",
       "dtype: int64"
      ]
     },
     "execution_count": 349,
     "metadata": {},
     "output_type": "execute_result"
    }
   ],
   "source": [
    "print(\"===Count==\")\n",
    "print(df_data_2.count())\n",
    "# Valores nulos por columna\n",
    "print(\"==Datos Nulos==\")\n",
    "print(df_data_2.isnull().sum())\n",
    "\n",
    "print(\"==Eliminar filas sin texto o etiqueta==\")\n",
    "df2 = df_data_2.dropna(subset=[\"textos\", \"labels\"])\n",
    "print(df2.count())\n",
    "\n",
    "print(\"==verificar si hay textos con strings vacíos==\")\n",
    "num_empty = (df2[\"textos\"].str.strip() == \"\").sum()\n",
    "print(\"Número de textos vacíos:\", num_empty)\n",
    "\n",
    "print(\"==Unicidad==\")\n",
    "duplicados = df2.duplicated(subset=[\"textos\"])\n",
    "print(f\"Duplicados encontrados: {duplicados.sum()}\")\n",
    "\n",
    "print(\"== Eliminar duplicados exactos (mismo texto y misma etiqueta ==\")\n",
    "df2 = df2.drop_duplicates(subset=[\"textos\", \"labels\"])\n",
    "df2.count()\n"
   ]
  },
  {
   "cell_type": "code",
   "execution_count": 350,
   "id": "54e526bd",
   "metadata": {},
   "outputs": [
    {
     "name": "stdout",
     "output_type": "stream",
     "text": [
      "0\n"
     ]
    }
   ],
   "source": [
    "# se demora alrededor de 20 segundos\n",
    "def detect_language(text):\n",
    "    try:\n",
    "        return detect(text)\n",
    "    except:\n",
    "        return \"unknown\"\n",
    "\n",
    "\n",
    "df2[\"language\"] = df2[\"textos\"].apply(detect_language)\n",
    "\n",
    "print(len(df2[df2[\"language\"] != \"es\"]))"
   ]
  },
  {
   "cell_type": "code",
   "execution_count": 351,
   "id": "4690614b",
   "metadata": {},
   "outputs": [
    {
     "data": {
      "text/plain": [
       "array([1, 3, 4], dtype=int64)"
      ]
     },
     "execution_count": 351,
     "metadata": {},
     "output_type": "execute_result"
    }
   ],
   "source": [
    "# clases en el datset\n",
    "df2[\"labels\"].unique()"
   ]
  },
  {
   "cell_type": "code",
   "execution_count": 353,
   "id": "74e41712",
   "metadata": {},
   "outputs": [],
   "source": [
    "df2 = df2.drop(columns=[\"language\"])"
   ]
  },
  {
   "cell_type": "code",
   "execution_count": 354,
   "id": "91e72dc6",
   "metadata": {},
   "outputs": [],
   "source": [
    "normalized_df2 = df2.copy()\n",
    "normalized_df2[[\"tokenized_text\", \"tokens\"]] = normalized_df2[\"textos\"].apply(\n",
    "    lambda x: pd.Series(tokenize_text(x, stem=False))\n",
    ")\n",
    "\n",
    "# recalcular word_count\n",
    "normalized_df2[\"word_count\"] = normalized_df2[\"textos\"].apply(\n",
    "    lambda x: len(str(x).split())\n",
    ")"
   ]
  },
  {
   "cell_type": "code",
   "execution_count": 355,
   "id": "782884a1",
   "metadata": {},
   "outputs": [
    {
     "data": {
      "text/html": [
       "<div>\n",
       "<style scoped>\n",
       "    .dataframe tbody tr th:only-of-type {\n",
       "        vertical-align: middle;\n",
       "    }\n",
       "\n",
       "    .dataframe tbody tr th {\n",
       "        vertical-align: top;\n",
       "    }\n",
       "\n",
       "    .dataframe thead th {\n",
       "        text-align: right;\n",
       "    }\n",
       "</style>\n",
       "<table border=\"1\" class=\"dataframe\">\n",
       "  <thead>\n",
       "    <tr style=\"text-align: right;\">\n",
       "      <th></th>\n",
       "      <th>textos</th>\n",
       "      <th>labels</th>\n",
       "      <th>tokenized_text</th>\n",
       "      <th>tokens</th>\n",
       "      <th>word_count</th>\n",
       "    </tr>\n",
       "  </thead>\n",
       "  <tbody>\n",
       "    <tr>\n",
       "      <th>0</th>\n",
       "      <td>La definición de privación está basada en el m...</td>\n",
       "      <td>1</td>\n",
       "      <td>definición privación basada marco derechos niñ...</td>\n",
       "      <td>[definición, privación, basada, marco, derecho...</td>\n",
       "      <td>100</td>\n",
       "    </tr>\n",
       "    <tr>\n",
       "      <th>1</th>\n",
       "      <td>La mayoría de los programas de protección soci...</td>\n",
       "      <td>1</td>\n",
       "      <td>mayoría programas protección social ghana aspi...</td>\n",
       "      <td>[mayoría, programas, protección, social, ghana...</td>\n",
       "      <td>97</td>\n",
       "    </tr>\n",
       "    <tr>\n",
       "      <th>2</th>\n",
       "      <td>Esto es dos veces y media mayor que la partici...</td>\n",
       "      <td>1</td>\n",
       "      <td>dos veces media mayor participación correspond...</td>\n",
       "      <td>[dos, veces, media, mayor, participación, corr...</td>\n",
       "      <td>61</td>\n",
       "    </tr>\n",
       "    <tr>\n",
       "      <th>3</th>\n",
       "      <td>El enfoque aquí está en los aspectos de la pob...</td>\n",
       "      <td>1</td>\n",
       "      <td>enfoque aquí aspectos pobreza reflejan situaci...</td>\n",
       "      <td>[enfoque, aquí, aspectos, pobreza, reflejan, s...</td>\n",
       "      <td>80</td>\n",
       "    </tr>\n",
       "    <tr>\n",
       "      <th>4</th>\n",
       "      <td>El factor educativo representa una mayor contr...</td>\n",
       "      <td>1</td>\n",
       "      <td>factor educativo representa mayor contribución...</td>\n",
       "      <td>[factor, educativo, representa, mayor, contrib...</td>\n",
       "      <td>58</td>\n",
       "    </tr>\n",
       "  </tbody>\n",
       "</table>\n",
       "</div>"
      ],
      "text/plain": [
       "                                              textos  labels  \\\n",
       "0  La definición de privación está basada en el m...       1   \n",
       "1  La mayoría de los programas de protección soci...       1   \n",
       "2  Esto es dos veces y media mayor que la partici...       1   \n",
       "3  El enfoque aquí está en los aspectos de la pob...       1   \n",
       "4  El factor educativo representa una mayor contr...       1   \n",
       "\n",
       "                                      tokenized_text  \\\n",
       "0  definición privación basada marco derechos niñ...   \n",
       "1  mayoría programas protección social ghana aspi...   \n",
       "2  dos veces media mayor participación correspond...   \n",
       "3  enfoque aquí aspectos pobreza reflejan situaci...   \n",
       "4  factor educativo representa mayor contribución...   \n",
       "\n",
       "                                              tokens  word_count  \n",
       "0  [definición, privación, basada, marco, derecho...         100  \n",
       "1  [mayoría, programas, protección, social, ghana...          97  \n",
       "2  [dos, veces, media, mayor, participación, corr...          61  \n",
       "3  [enfoque, aquí, aspectos, pobreza, reflejan, s...          80  \n",
       "4  [factor, educativo, representa, mayor, contrib...          58  "
      ]
     },
     "execution_count": 355,
     "metadata": {},
     "output_type": "execute_result"
    }
   ],
   "source": [
    "normalized_df2.head()"
   ]
  },
  {
   "cell_type": "code",
   "execution_count": 356,
   "id": "ae0e0914",
   "metadata": {},
   "outputs": [
    {
     "name": "stdout",
     "output_type": "stream",
     "text": [
      "Distribución de clases:\n",
      "        cantidad  porcentaje\n",
      "labels                      \n",
      "4             43        0.02\n",
      "3             35        0.01\n",
      "1             21        0.01\n"
     ]
    }
   ],
   "source": [
    "# 9. Distribución de etiquetas\n",
    "print(\"Distribución de clases:\")\n",
    "dist_df2 = pd.DataFrame(\n",
    "    {\n",
    "        \"cantidad\": df2[\"labels\"].value_counts(),\n",
    "        \"porcentaje\": round(df2[\"labels\"].value_counts() / len(df), 2),\n",
    "    }\n",
    ")\n",
    "print(dist_df2)"
   ]
  },
  {
   "cell_type": "code",
   "execution_count": 357,
   "id": "ec4a9cbe",
   "metadata": {},
   "outputs": [],
   "source": [
    "colors = {1: \"#1D8F97\", 3: \"#9bd137\", 4: \"#DA2C38\"}"
   ]
  },
  {
   "cell_type": "code",
   "execution_count": 358,
   "id": "a2255f2f",
   "metadata": {},
   "outputs": [
    {
     "data": {
      "image/png": "[encoded data removed]",
      "text/plain": [
       "<Figure size 640x480 with 1 Axes>"
      ]
     },
     "metadata": {},
     "output_type": "display_data"
    }
   ],
   "source": [
    "value_counts = df2[\"labels\"].value_counts()\n",
    "x_values = value_counts.index\n",
    "y_values = value_counts.values\n",
    "\n",
    "sns.barplot(x=x_values, y=y_values, palette=colors, hue=x_values, legend=False)\n",
    "\n",
    "plt.title(\"Distribución de Clases\")\n",
    "plt.xlabel(\"Clases\")\n",
    "plt.ylabel(\"Frecuencia\")\n",
    "plt.show()"
   ]
  },
  {
   "cell_type": "code",
   "execution_count": 359,
   "id": "b3539612",
   "metadata": {},
   "outputs": [
    {
     "data": {
      "text/plain": [
       "<364x12940 sparse matrix of type '<class 'numpy.int64'>'\n",
       "\twith 15792 stored elements in Compressed Sparse Row format>"
      ]
     },
     "execution_count": 359,
     "metadata": {},
     "output_type": "execute_result"
    }
   ],
   "source": [
    "X_test"
   ]
  },
  {
   "cell_type": "code",
   "execution_count": 360,
   "id": "9dbae7fd",
   "metadata": {},
   "outputs": [],
   "source": [
    "X = normalized_df2[\"tokenized_text\"]\n",
    "y = normalized_df2[\"labels\"]\n",
    "X_test = X.copy()\n",
    "y_test = y.copy()\n",
    "# Ahora sí transformar el test (usar la variable correcta)\n",
    "X_test = vectorizer_ngram.transform(X_test.fillna(\"\"))\n",
    "\n",
    "# Predecir con el modelo ya entrenado\n",
    "y_preds = best_model.predict(X_test)"
   ]
  },
  {
   "cell_type": "code",
   "execution_count": 361,
   "id": "3f647971",
   "metadata": {},
   "outputs": [
    {
     "data": {
      "image/png": "[encoded data removed]",
      "text/plain": [
       "<Figure size 800x600 with 2 Axes>"
      ]
     },
     "metadata": {},
     "output_type": "display_data"
    }
   ],
   "source": [
    "\n",
    "from matplotlib.colors import LinearSegmentedColormap\n",
    "\n",
    "# Crear colormap personalizado con los colores especificados que se usan en la ppt\n",
    "colors = ['#FFFFFF', '#AEEA00', '#219A0B', '#0B4944']\n",
    "custom_cmap = LinearSegmentedColormap.from_list('custom', colors, N=256)\n",
    "cm = confusion_matrix(y_test, y_preds)\n",
    "\n",
    "# Visualización 1: Usando ConfusionMatrixDisplay de sklearn\n",
    "fig, ax = plt.subplots(figsize=(8, 6))\n",
    "disp = ConfusionMatrixDisplay(\n",
    "    confusion_matrix=cm, display_labels=[\"ODS 1\", \"ODS 3\", \"ODS 4\"]\n",
    ")\n",
    "disp.plot(cmap=custom_cmap, values_format=\"d\", ax=ax)\n",
    "plt.title(\n",
    "    \"Matriz de Confusión - Logistic Regression con Unigramas\",\n",
    "    fontsize=14,\n",
    "    fontweight=\"bold\",\n",
    ")\n",
    "plt.tight_layout()\n",
    "plt.show()"
   ]
  },
  {
   "cell_type": "code",
   "execution_count": 362,
   "id": "c7bc4e4f",
   "metadata": {},
   "outputs": [
    {
     "name": "stdout",
     "output_type": "stream",
     "text": [
      "Precision (macro): 0.9212\n",
      "Recall    (macro): 0.8656\n",
      "F1-score  (macro): 0.8798\n",
      "Precision (weighted): 0.9108\n",
      "Recall    (weighted): 0.8990\n",
      "F1-score  (weighted): 0.8951\n"
     ]
    }
   ],
   "source": [
    "print(f\"Precision (macro): {precision_score(y_test, y_preds, average='macro', zero_division=0):.4f}\")\n",
    "print(f\"Recall    (macro): {recall_score(y_test, y_preds, average='macro', zero_division=0):.4f}\")\n",
    "print(f\"F1-score  (macro): {f1_score(y_test, y_preds, average='macro', zero_division=0):.4f}\")\n",
    "print(f\"Precision (weighted): {precision_score(y_test, y_preds, average='weighted', zero_division=0):.4f}\")\n",
    "print(f\"Recall    (weighted): {recall_score(y_test, y_preds, average='weighted', zero_division=0):.4f}\")\n",
    "print(f\"F1-score  (weighted): {f1_score(y_test, y_preds, average='weighted', zero_division=0):.4f}\")\n"
   ]
  },
  {
   "cell_type": "markdown",
   "id": "1269e059",
   "metadata": {},
   "source": [
    "Es necesario unir ambos datos, los nuevos y los viejos y sobre estos generar el split. "
   ]
  },
  {
   "cell_type": "code",
   "execution_count": 364,
   "id": "56290cda",
   "metadata": {},
   "outputs": [
    {
     "data": {
      "text/html": [
       "<div>\n",
       "<style scoped>\n",
       "    .dataframe tbody tr th:only-of-type {\n",
       "        vertical-align: middle;\n",
       "    }\n",
       "\n",
       "    .dataframe tbody tr th {\n",
       "        vertical-align: top;\n",
       "    }\n",
       "\n",
       "    .dataframe thead th {\n",
       "        text-align: right;\n",
       "    }\n",
       "</style>\n",
       "<table border=\"1\" class=\"dataframe\">\n",
       "  <thead>\n",
       "    <tr style=\"text-align: right;\">\n",
       "      <th></th>\n",
       "      <th>textos</th>\n",
       "      <th>labels</th>\n",
       "      <th>word_count</th>\n",
       "      <th>tokenized_text</th>\n",
       "      <th>tokens</th>\n",
       "    </tr>\n",
       "  </thead>\n",
       "  <tbody>\n",
       "    <tr>\n",
       "      <th>0</th>\n",
       "      <td>\"Aprendizaje\" y \"educación\" se consideran sinó...</td>\n",
       "      <td>4</td>\n",
       "      <td>48</td>\n",
       "      <td>aprendizaje educación consideran sinónimos esc...</td>\n",
       "      <td>[aprendizaje, educación, consideran, sinónimos...</td>\n",
       "    </tr>\n",
       "    <tr>\n",
       "      <th>1</th>\n",
       "      <td>Para los niños más pequeños (bebés y niños peq...</td>\n",
       "      <td>4</td>\n",
       "      <td>72</td>\n",
       "      <td>niños pequeños bebés niños pequeños capacitaci...</td>\n",
       "      <td>[niños, pequeños, bebés, niños, pequeños, capa...</td>\n",
       "    </tr>\n",
       "    <tr>\n",
       "      <th>2</th>\n",
       "      <td>Además, la formación de especialistas en medic...</td>\n",
       "      <td>3</td>\n",
       "      <td>93</td>\n",
       "      <td>además formación especialistas medicina genera...</td>\n",
       "      <td>[además, formación, especialistas, medicina, g...</td>\n",
       "    </tr>\n",
       "    <tr>\n",
       "      <th>3</th>\n",
       "      <td>En los países de la OCDE se tiende a pasar de ...</td>\n",
       "      <td>4</td>\n",
       "      <td>109</td>\n",
       "      <td>países ocde tiende pasar cursos obligatorios o...</td>\n",
       "      <td>[países, ocde, tiende, pasar, cursos, obligato...</td>\n",
       "    </tr>\n",
       "    <tr>\n",
       "      <th>4</th>\n",
       "      <td>Este grupo se centró en las personas que padec...</td>\n",
       "      <td>3</td>\n",
       "      <td>94</td>\n",
       "      <td>grupo centró personas padecen trastornos menta...</td>\n",
       "      <td>[grupo, centró, personas, padecen, trastornos,...</td>\n",
       "    </tr>\n",
       "  </tbody>\n",
       "</table>\n",
       "</div>"
      ],
      "text/plain": [
       "                                              textos  labels  word_count  \\\n",
       "0  \"Aprendizaje\" y \"educación\" se consideran sinó...       4          48   \n",
       "1  Para los niños más pequeños (bebés y niños peq...       4          72   \n",
       "2  Además, la formación de especialistas en medic...       3          93   \n",
       "3  En los países de la OCDE se tiende a pasar de ...       4         109   \n",
       "4  Este grupo se centró en las personas que padec...       3          94   \n",
       "\n",
       "                                      tokenized_text  \\\n",
       "0  aprendizaje educación consideran sinónimos esc...   \n",
       "1  niños pequeños bebés niños pequeños capacitaci...   \n",
       "2  además formación especialistas medicina genera...   \n",
       "3  países ocde tiende pasar cursos obligatorios o...   \n",
       "4  grupo centró personas padecen trastornos menta...   \n",
       "\n",
       "                                              tokens  \n",
       "0  [aprendizaje, educación, consideran, sinónimos...  \n",
       "1  [niños, pequeños, bebés, niños, pequeños, capa...  \n",
       "2  [además, formación, especialistas, medicina, g...  \n",
       "3  [países, ocde, tiende, pasar, cursos, obligato...  \n",
       "4  [grupo, centró, personas, padecen, trastornos,...  "
      ]
     },
     "execution_count": 364,
     "metadata": {},
     "output_type": "execute_result"
    }
   ],
   "source": [
    "df = pd.concat([normalized_df,normalized_df2])\n",
    "df.head()\n"
   ]
  },
  {
   "cell_type": "code",
   "execution_count": 365,
   "id": "c44c28ec",
   "metadata": {},
   "outputs": [
    {
     "name": "stdout",
     "output_type": "stream",
     "text": [
      "2424 99\n",
      "2523\n"
     ]
    }
   ],
   "source": [
    "print(len(normalized_df), len(normalized_df2))\n",
    "print(len(df))"
   ]
  },
  {
   "cell_type": "code",
   "execution_count": 367,
   "id": "69f97732",
   "metadata": {},
   "outputs": [
    {
     "name": "stdout",
     "output_type": "stream",
     "text": [
      "Distribución de clases:\n",
      "        cantidad  porcentaje\n",
      "labels                      \n",
      "4           1068        0.42\n",
      "3            929        0.37\n",
      "1            526        0.21\n"
     ]
    }
   ],
   "source": [
    "print(\"Distribución de clases:\")\n",
    "dist_df = pd.DataFrame(\n",
    "    {\n",
    "        \"cantidad\": df[\"labels\"].value_counts(),\n",
    "        \"porcentaje\": round(df[\"labels\"].value_counts() / len(df), 2),\n",
    "    }\n",
    ")\n",
    "print(dist_df)\n",
    "colors = {1: \"#1D8F97\", 3: \"#9bd137\", 4: \"#DA2C38\"}"
   ]
  },
  {
   "cell_type": "code",
   "execution_count": 368,
   "id": "71930e94",
   "metadata": {},
   "outputs": [
    {
     "data": {
      "image/png": "[encoded data removed]",
      "text/plain": [
       "<Figure size 640x480 with 1 Axes>"
      ]
     },
     "metadata": {},
     "output_type": "display_data"
    }
   ],
   "source": [
    "value_counts = df[\"labels\"].value_counts()\n",
    "x_values = value_counts.index\n",
    "y_values = value_counts.values\n",
    "\n",
    "sns.barplot(x=x_values, y=y_values, palette=colors, hue=x_values, legend=False)\n",
    "\n",
    "plt.title(\"Distribución de Clases\")\n",
    "plt.xlabel(\"Clases\")\n",
    "plt.ylabel(\"Frecuencia\")\n",
    "plt.show()"
   ]
  },
  {
   "cell_type": "code",
   "execution_count": 372,
   "id": "2e003bfe",
   "metadata": {},
   "outputs": [],
   "source": [
    "X = df[\"tokenized_text\"]\n",
    "y = df[\"labels\"]\n",
    "X_train_real, X_temp, y_train_real, y_temp = train_test_split(\n",
    "    X, y, test_size=0.30, random_state=42\n",
    ")\n",
    "\n",
    "X_val_real, X_test_real, y_val_real, y_test_real = train_test_split(\n",
    "    X_temp, y_temp,\n",
    "    test_size=(1/3), \n",
    "    stratify=y_temp,\n",
    "    random_state=42\n",
    ")\n",
    "\n",
    "\n",
    "# Crear DataFrames para cada conjunto\n",
    "df_train_real = pd.DataFrame({\"textos\": X_train_real, \"labels\": y_train_real})\n",
    "df_val_real = pd.DataFrame({\"textos\": X_val_real, \"labels\": y_val_real})\n",
    "df_test_real = pd.DataFrame({\"textos\": X_test_real, \"labels\": y_test_real})"
   ]
  },
  {
   "cell_type": "code",
   "execution_count": 373,
   "id": "6495e020",
   "metadata": {},
   "outputs": [
    {
     "name": "stdout",
     "output_type": "stream",
     "text": [
      "Tamaños -> train: 1766 val: 504 test: 253\n",
      "Distribución original en train:\n",
      " labels\n",
      "4    738\n",
      "3    665\n",
      "1    363\n",
      "Name: count, dtype: int64\n"
     ]
    }
   ],
   "source": [
    "print(\"Tamaños -> train:\", len(df_train_real), \"val:\", len(df_val_real), \"test:\", len(df_test_real))\n",
    "print(\"Distribución original en train:\\n\", df_train_real[ODS].value_counts())"
   ]
  },
  {
   "cell_type": "markdown",
   "id": "e86decf8",
   "metadata": {},
   "source": [
    "# Creación de datos sintéticos"
   ]
  },
  {
   "cell_type": "code",
   "execution_count": 244,
   "id": "72209fd8",
   "metadata": {},
   "outputs": [
    {
     "name": "stdout",
     "output_type": "stream",
     "text": [
      "OPENAI_API_KEY cargada correctamente: True\n"
     ]
    }
   ],
   "source": [
    "from pathlib import Path\n",
    "import sys, site, platform, os, subprocess\n",
    "\n",
    "# cargar dotenv (instala python-dotenv si hace falta)\n",
    "try:\n",
    "    from dotenv import load_dotenv\n",
    "    load_dotenv()   # carga .env desde el working dir o sus padres\n",
    "except Exception:\n",
    "    pass\n",
    "\n",
    "secret = os.getenv(\"OPENAI_API_KEY\")\n",
    "if not secret:\n",
    "    raise RuntimeError(\n",
    "        \"OPENAI_API_KEY no encontrada. Verifica .env en la ruta y que tenga formato: OPENAI_API_KEY=sk-... (sin comillas)\"\n",
    "    )\n",
    "\n",
    "# No imprimir la clave. Verificar solo que se cargó:\n",
    "print(\"OPENAI_API_KEY cargada correctamente:\", bool(secret))"
   ]
  },
  {
   "cell_type": "code",
   "execution_count": 245,
   "id": "2aa993d6",
   "metadata": {},
   "outputs": [
    {
     "name": "stdout",
     "output_type": "stream",
     "text": [
      "Python exe: c:\\Users\\aleja\\anaconda3\\envs\\bi\\python.exe\n",
      "Version: 3.12.9 | packaged by conda-forge | (main, Mar  4 2025, 22:37:18) [MSC v.1943 64 bit (AMD64)]\n",
      "Site-packages: ['c:\\\\Users\\\\aleja\\\\anaconda3\\\\envs\\\\bi', 'c:\\\\Users\\\\aleja\\\\anaconda3\\\\envs\\\\bi\\\\Lib\\\\site-packages']\n",
      "OS: Windows-11-10.0.26100-SP0\n"
     ]
    }
   ],
   "source": [
    "print(\"Python exe:\", sys.executable)\n",
    "print(\"Version:\", sys.version)\n",
    "print(\"Site-packages:\", site.getsitepackages() if hasattr(site,\"getsitepackages\") else site.getusersitepackages())\n",
    "print(\"OS:\", platform.platform())"
   ]
  },
  {
   "cell_type": "code",
   "execution_count": 247,
   "id": "5b62e5fa",
   "metadata": {},
   "outputs": [
    {
     "name": "stdout",
     "output_type": "stream",
     "text": [
      "OK SDK v1.x, modelos: 96\n"
     ]
    }
   ],
   "source": [
    "from openai import OpenAI\n",
    "client = OpenAI(api_key=secret)\n",
    "models = client.models.list()\n",
    "print(\"OK SDK v1.x, modelos:\", len(models.data))"
   ]
  },
  {
   "cell_type": "code",
   "execution_count": null,
   "id": "1c3acd78",
   "metadata": {},
   "outputs": [],
   "source": [
    "TEXTO = \"textos\"  # columna de la opinión\n",
    "ODS = \"labels\"  # columna de etiqueta 1,3,4"
   ]
  },
  {
   "cell_type": "code",
   "execution_count": 374,
   "id": "10d82023",
   "metadata": {},
   "outputs": [
    {
     "name": "stdout",
     "output_type": "stream",
     "text": [
      "Ejemplos a generar por clase: {3: 73, 1: 375}\n",
      "Clase 3: intento 1/4 -> agregados 20, total 20/73\n"
     ]
    },
    {
     "name": "stderr",
     "output_type": "stream",
     "text": [
      "C:\\Users\\aleja\\AppData\\Local\\Temp\\ipykernel_3588\\2899643463.py:95: FutureWarning: unique with argument that is not not a Series, Index, ExtensionArray, or np.ndarray is deprecated and will raise in a future version.\n",
      "  seeds = list(pd.unique((seeds + df_batch[TEXTO].astype(str).tolist())))[-8:]\n"
     ]
    },
    {
     "name": "stdout",
     "output_type": "stream",
     "text": [
      "Clase 3: intento 2/4 -> agregados 20, total 40/73\n"
     ]
    },
    {
     "name": "stderr",
     "output_type": "stream",
     "text": [
      "C:\\Users\\aleja\\AppData\\Local\\Temp\\ipykernel_3588\\2899643463.py:95: FutureWarning: unique with argument that is not not a Series, Index, ExtensionArray, or np.ndarray is deprecated and will raise in a future version.\n",
      "  seeds = list(pd.unique((seeds + df_batch[TEXTO].astype(str).tolist())))[-8:]\n"
     ]
    },
    {
     "name": "stdout",
     "output_type": "stream",
     "text": [
      "Clase 3: intento 3/4 -> agregados 20, total 60/73\n"
     ]
    },
    {
     "name": "stderr",
     "output_type": "stream",
     "text": [
      "C:\\Users\\aleja\\AppData\\Local\\Temp\\ipykernel_3588\\2899643463.py:95: FutureWarning: unique with argument that is not not a Series, Index, ExtensionArray, or np.ndarray is deprecated and will raise in a future version.\n",
      "  seeds = list(pd.unique((seeds + df_batch[TEXTO].astype(str).tolist())))[-8:]\n"
     ]
    },
    {
     "name": "stdout",
     "output_type": "stream",
     "text": [
      "Clase 3: intento 4/4 -> agregados 13, total 73/73\n"
     ]
    },
    {
     "name": "stderr",
     "output_type": "stream",
     "text": [
      "C:\\Users\\aleja\\AppData\\Local\\Temp\\ipykernel_3588\\2899643463.py:95: FutureWarning: unique with argument that is not not a Series, Index, ExtensionArray, or np.ndarray is deprecated and will raise in a future version.\n",
      "  seeds = list(pd.unique((seeds + df_batch[TEXTO].astype(str).tolist())))[-8:]\n"
     ]
    },
    {
     "name": "stdout",
     "output_type": "stream",
     "text": [
      "Clase 1: intento 1/19 -> agregados 20, total 20/375\n"
     ]
    },
    {
     "name": "stderr",
     "output_type": "stream",
     "text": [
      "C:\\Users\\aleja\\AppData\\Local\\Temp\\ipykernel_3588\\2899643463.py:95: FutureWarning: unique with argument that is not not a Series, Index, ExtensionArray, or np.ndarray is deprecated and will raise in a future version.\n",
      "  seeds = list(pd.unique((seeds + df_batch[TEXTO].astype(str).tolist())))[-8:]\n"
     ]
    },
    {
     "name": "stdout",
     "output_type": "stream",
     "text": [
      "Clase 1: intento 2/19 -> agregados 20, total 40/375\n"
     ]
    },
    {
     "name": "stderr",
     "output_type": "stream",
     "text": [
      "C:\\Users\\aleja\\AppData\\Local\\Temp\\ipykernel_3588\\2899643463.py:95: FutureWarning: unique with argument that is not not a Series, Index, ExtensionArray, or np.ndarray is deprecated and will raise in a future version.\n",
      "  seeds = list(pd.unique((seeds + df_batch[TEXTO].astype(str).tolist())))[-8:]\n"
     ]
    },
    {
     "name": "stdout",
     "output_type": "stream",
     "text": [
      "Clase 1: intento 3/19 -> agregados 20, total 60/375\n"
     ]
    },
    {
     "name": "stderr",
     "output_type": "stream",
     "text": [
      "C:\\Users\\aleja\\AppData\\Local\\Temp\\ipykernel_3588\\2899643463.py:95: FutureWarning: unique with argument that is not not a Series, Index, ExtensionArray, or np.ndarray is deprecated and will raise in a future version.\n",
      "  seeds = list(pd.unique((seeds + df_batch[TEXTO].astype(str).tolist())))[-8:]\n"
     ]
    },
    {
     "name": "stdout",
     "output_type": "stream",
     "text": [
      "Clase 1: intento 4/19 -> agregados 20, total 80/375\n"
     ]
    },
    {
     "name": "stderr",
     "output_type": "stream",
     "text": [
      "C:\\Users\\aleja\\AppData\\Local\\Temp\\ipykernel_3588\\2899643463.py:95: FutureWarning: unique with argument that is not not a Series, Index, ExtensionArray, or np.ndarray is deprecated and will raise in a future version.\n",
      "  seeds = list(pd.unique((seeds + df_batch[TEXTO].astype(str).tolist())))[-8:]\n"
     ]
    },
    {
     "name": "stdout",
     "output_type": "stream",
     "text": [
      "Clase 1: intento 5/19 -> agregados 20, total 100/375\n"
     ]
    },
    {
     "name": "stderr",
     "output_type": "stream",
     "text": [
      "C:\\Users\\aleja\\AppData\\Local\\Temp\\ipykernel_3588\\2899643463.py:95: FutureWarning: unique with argument that is not not a Series, Index, ExtensionArray, or np.ndarray is deprecated and will raise in a future version.\n",
      "  seeds = list(pd.unique((seeds + df_batch[TEXTO].astype(str).tolist())))[-8:]\n"
     ]
    },
    {
     "name": "stdout",
     "output_type": "stream",
     "text": [
      "Clase 1: intento 6/19 -> agregados 21, total 121/375\n"
     ]
    },
    {
     "name": "stderr",
     "output_type": "stream",
     "text": [
      "C:\\Users\\aleja\\AppData\\Local\\Temp\\ipykernel_3588\\2899643463.py:95: FutureWarning: unique with argument that is not not a Series, Index, ExtensionArray, or np.ndarray is deprecated and will raise in a future version.\n",
      "  seeds = list(pd.unique((seeds + df_batch[TEXTO].astype(str).tolist())))[-8:]\n"
     ]
    },
    {
     "name": "stdout",
     "output_type": "stream",
     "text": [
      "Clase 1: intento 7/19 -> agregados 20, total 141/375\n"
     ]
    },
    {
     "name": "stderr",
     "output_type": "stream",
     "text": [
      "C:\\Users\\aleja\\AppData\\Local\\Temp\\ipykernel_3588\\2899643463.py:95: FutureWarning: unique with argument that is not not a Series, Index, ExtensionArray, or np.ndarray is deprecated and will raise in a future version.\n",
      "  seeds = list(pd.unique((seeds + df_batch[TEXTO].astype(str).tolist())))[-8:]\n"
     ]
    },
    {
     "name": "stdout",
     "output_type": "stream",
     "text": [
      "Clase 1: intento 8/19 -> agregados 20, total 161/375\n"
     ]
    },
    {
     "name": "stderr",
     "output_type": "stream",
     "text": [
      "C:\\Users\\aleja\\AppData\\Local\\Temp\\ipykernel_3588\\2899643463.py:95: FutureWarning: unique with argument that is not not a Series, Index, ExtensionArray, or np.ndarray is deprecated and will raise in a future version.\n",
      "  seeds = list(pd.unique((seeds + df_batch[TEXTO].astype(str).tolist())))[-8:]\n"
     ]
    },
    {
     "name": "stdout",
     "output_type": "stream",
     "text": [
      "Clase 1: intento 9/19 -> agregados 20, total 181/375\n"
     ]
    },
    {
     "name": "stderr",
     "output_type": "stream",
     "text": [
      "C:\\Users\\aleja\\AppData\\Local\\Temp\\ipykernel_3588\\2899643463.py:95: FutureWarning: unique with argument that is not not a Series, Index, ExtensionArray, or np.ndarray is deprecated and will raise in a future version.\n",
      "  seeds = list(pd.unique((seeds + df_batch[TEXTO].astype(str).tolist())))[-8:]\n"
     ]
    },
    {
     "name": "stdout",
     "output_type": "stream",
     "text": [
      "Clase 1: intento 10/19 -> agregados 20, total 201/375\n"
     ]
    },
    {
     "name": "stderr",
     "output_type": "stream",
     "text": [
      "C:\\Users\\aleja\\AppData\\Local\\Temp\\ipykernel_3588\\2899643463.py:95: FutureWarning: unique with argument that is not not a Series, Index, ExtensionArray, or np.ndarray is deprecated and will raise in a future version.\n",
      "  seeds = list(pd.unique((seeds + df_batch[TEXTO].astype(str).tolist())))[-8:]\n"
     ]
    },
    {
     "name": "stdout",
     "output_type": "stream",
     "text": [
      "Clase 1: intento 11/19 -> agregados 20, total 221/375\n"
     ]
    },
    {
     "name": "stderr",
     "output_type": "stream",
     "text": [
      "C:\\Users\\aleja\\AppData\\Local\\Temp\\ipykernel_3588\\2899643463.py:95: FutureWarning: unique with argument that is not not a Series, Index, ExtensionArray, or np.ndarray is deprecated and will raise in a future version.\n",
      "  seeds = list(pd.unique((seeds + df_batch[TEXTO].astype(str).tolist())))[-8:]\n"
     ]
    },
    {
     "name": "stdout",
     "output_type": "stream",
     "text": [
      "Clase 1: intento 12/19 -> agregados 19, total 240/375\n"
     ]
    },
    {
     "name": "stderr",
     "output_type": "stream",
     "text": [
      "C:\\Users\\aleja\\AppData\\Local\\Temp\\ipykernel_3588\\2899643463.py:95: FutureWarning: unique with argument that is not not a Series, Index, ExtensionArray, or np.ndarray is deprecated and will raise in a future version.\n",
      "  seeds = list(pd.unique((seeds + df_batch[TEXTO].astype(str).tolist())))[-8:]\n"
     ]
    },
    {
     "name": "stdout",
     "output_type": "stream",
     "text": [
      "Clase 1: intento 13/19 -> agregados 20, total 260/375\n"
     ]
    },
    {
     "name": "stderr",
     "output_type": "stream",
     "text": [
      "C:\\Users\\aleja\\AppData\\Local\\Temp\\ipykernel_3588\\2899643463.py:95: FutureWarning: unique with argument that is not not a Series, Index, ExtensionArray, or np.ndarray is deprecated and will raise in a future version.\n",
      "  seeds = list(pd.unique((seeds + df_batch[TEXTO].astype(str).tolist())))[-8:]\n"
     ]
    },
    {
     "name": "stdout",
     "output_type": "stream",
     "text": [
      "Clase 1: intento 14/19 -> agregados 20, total 280/375\n"
     ]
    },
    {
     "name": "stderr",
     "output_type": "stream",
     "text": [
      "C:\\Users\\aleja\\AppData\\Local\\Temp\\ipykernel_3588\\2899643463.py:95: FutureWarning: unique with argument that is not not a Series, Index, ExtensionArray, or np.ndarray is deprecated and will raise in a future version.\n",
      "  seeds = list(pd.unique((seeds + df_batch[TEXTO].astype(str).tolist())))[-8:]\n"
     ]
    },
    {
     "name": "stdout",
     "output_type": "stream",
     "text": [
      "Clase 1: intento 15/19 -> agregados 20, total 300/375\n"
     ]
    },
    {
     "name": "stderr",
     "output_type": "stream",
     "text": [
      "C:\\Users\\aleja\\AppData\\Local\\Temp\\ipykernel_3588\\2899643463.py:95: FutureWarning: unique with argument that is not not a Series, Index, ExtensionArray, or np.ndarray is deprecated and will raise in a future version.\n",
      "  seeds = list(pd.unique((seeds + df_batch[TEXTO].astype(str).tolist())))[-8:]\n"
     ]
    },
    {
     "name": "stdout",
     "output_type": "stream",
     "text": [
      "Clase 1: intento 16/19 -> agregados 20, total 320/375\n"
     ]
    },
    {
     "name": "stderr",
     "output_type": "stream",
     "text": [
      "C:\\Users\\aleja\\AppData\\Local\\Temp\\ipykernel_3588\\2899643463.py:95: FutureWarning: unique with argument that is not not a Series, Index, ExtensionArray, or np.ndarray is deprecated and will raise in a future version.\n",
      "  seeds = list(pd.unique((seeds + df_batch[TEXTO].astype(str).tolist())))[-8:]\n"
     ]
    },
    {
     "name": "stdout",
     "output_type": "stream",
     "text": [
      "Clase 1: intento 17/19 -> agregados 20, total 340/375\n"
     ]
    },
    {
     "name": "stderr",
     "output_type": "stream",
     "text": [
      "C:\\Users\\aleja\\AppData\\Local\\Temp\\ipykernel_3588\\2899643463.py:95: FutureWarning: unique with argument that is not not a Series, Index, ExtensionArray, or np.ndarray is deprecated and will raise in a future version.\n",
      "  seeds = list(pd.unique((seeds + df_batch[TEXTO].astype(str).tolist())))[-8:]\n"
     ]
    },
    {
     "name": "stdout",
     "output_type": "stream",
     "text": [
      "Clase 1: intento 18/19 -> agregados 20, total 360/375\n"
     ]
    },
    {
     "name": "stderr",
     "output_type": "stream",
     "text": [
      "C:\\Users\\aleja\\AppData\\Local\\Temp\\ipykernel_3588\\2899643463.py:95: FutureWarning: unique with argument that is not not a Series, Index, ExtensionArray, or np.ndarray is deprecated and will raise in a future version.\n",
      "  seeds = list(pd.unique((seeds + df_batch[TEXTO].astype(str).tolist())))[-8:]\n"
     ]
    },
    {
     "name": "stdout",
     "output_type": "stream",
     "text": [
      "Clase 1: intento 19/19 -> agregados 15, total 375/375\n",
      "Resumen agregado por clase: {3: 73, 1: 375}\n",
      "Nuevas filas agregadas totales: 448\n",
      "\n",
      "Distribución final en train (balanceada):\n",
      "labels\n",
      "1    738\n",
      "3    738\n",
      "4    738\n",
      "Name: count, dtype: int64\n"
     ]
    },
    {
     "name": "stderr",
     "output_type": "stream",
     "text": [
      "C:\\Users\\aleja\\AppData\\Local\\Temp\\ipykernel_3588\\2899643463.py:95: FutureWarning: unique with argument that is not not a Series, Index, ExtensionArray, or np.ndarray is deprecated and will raise in a future version.\n",
      "  seeds = list(pd.unique((seeds + df_batch[TEXTO].astype(str).tolist())))[-8:]\n"
     ]
    }
   ],
   "source": [
    "# =====================================================\n",
    "# 4️⃣ Balancear el conjunto de entrenamiento\n",
    "# =====================================================\n",
    "conteo = df_train_real[ODS].value_counts()\n",
    "max_count = conteo.max()\n",
    "\n",
    "# calcular cuántos ejemplos nuevos por clase\n",
    "targets = {clase: max_count - count for clase, count in conteo.items() if count < max_count}\n",
    "print(\"Ejemplos a generar por clase:\", targets)\n",
    "\n",
    "cols = [TEXTO, ODS]\n",
    "df_before = df_train_real[cols].drop_duplicates().copy()\n",
    "df = df_train_real.copy()  # trabajamos solo con train\n",
    "\n",
    "# =====================================================\n",
    "# 5️⃣ Funciones auxiliares IA-Gen\n",
    "# =====================================================\n",
    "def get_seeds_for_class(df, clase, n=8):\n",
    "    \"\"\"Selecciona hasta n ejemplos reales de esa clase como contexto\"\"\"\n",
    "    s = (\n",
    "        df[df[ODS] == clase][TEXTO]\n",
    "        .dropna()\n",
    "        .astype(str)\n",
    "        .sample(min(n, sum(df[ODS] == clase)), random_state=42)\n",
    "        .tolist()\n",
    "    )\n",
    "    return s\n",
    "\n",
    "def request_examples(client, clase, seeds, n_to_generate, model=\"gpt-4o-mini\", max_attempts=3):\n",
    "    \"\"\"Solicita ejemplos sintéticos al modelo\"\"\"\n",
    "    prompt = f\"\"\"\n",
    "Genera {n_to_generate} opiniones ciudadanas breves (1–2 oraciones) en español (Colombia),\n",
    "realistas y respetuosas, sobre problemáticas locales que correspondan al ODS {clase}.\n",
    "Requisitos:\n",
    "- TODAS deben pertenecer exclusivamente al ODS {clase}.\n",
    "- Varía zona (urbano/rural), actores e instituciones; evita datos personales.\n",
    "- Mantén neutralidad política.\n",
    "- Devuelve SOLO JSON: lista de objetos con llaves \"textos\" (string) y \"labels\" (entero {clase}).\n",
    "Ejemplos de inspiración:\n",
    "{chr(10).join(f\"- {s}\" for s in seeds) if seeds else \"- (sin ejemplos de contexto)\"}\n",
    "    \"\"\"\n",
    "    for attempt in range(max_attempts):\n",
    "        try:\n",
    "            response = client.chat.completions.create(\n",
    "                model=model,\n",
    "                messages=[\n",
    "                    {\"role\": \"system\", \"content\": \"Eres un generador de datos sintéticos.\"},\n",
    "                    {\"role\": \"user\", \"content\": prompt},\n",
    "                ],\n",
    "                temperature=0.7,\n",
    "            )\n",
    "            raw = response.choices[0].message.content.strip()\n",
    "            if raw.startswith(\"```\"):\n",
    "                raw = raw.strip(\"`\")\n",
    "                if \"\\n\" in raw:\n",
    "                    raw = raw.split(\"\\n\", 1)[1]\n",
    "            data = json.loads(raw)\n",
    "            valid = []\n",
    "            for item in data:\n",
    "                if isinstance(item, dict) and \"textos\" in item and \"labels\" in item:\n",
    "                    valid.append({TEXTO: str(item[\"textos\"]).strip(), ODS: int(item[\"labels\"])})\n",
    "            return pd.DataFrame(valid)\n",
    "        except Exception as e:\n",
    "            time.sleep(1 + attempt * 2)\n",
    "    return pd.DataFrame(columns=cols)\n",
    "\n",
    "# =====================================================\n",
    "# 6️⃣ Generar datos sintéticos solo para el train\n",
    "# =====================================================\n",
    "batch_size = 20\n",
    "added_summary = {}\n",
    "\n",
    "for clase, needed in targets.items():\n",
    "    added = 0\n",
    "    seeds = get_seeds_for_class(df, clase, n=8)\n",
    "    iterations = ceil(needed / batch_size)\n",
    "    for i in range(iterations):\n",
    "        remaining = needed - added\n",
    "        if remaining <= 0:\n",
    "            break\n",
    "        to_request = min(batch_size, remaining)\n",
    "        df_batch = request_examples(client, clase, seeds, to_request)\n",
    "        if df_batch.empty:\n",
    "            print(f\"[WARN] No se obtuvo respuesta válida para clase {clase} en intento {i+1}.\")\n",
    "            continue\n",
    "        df_batch[ODS] = clase\n",
    "        df_batch = df_batch[cols].dropna().drop_duplicates()\n",
    "        prev_len = len(df)\n",
    "        df = pd.concat([df, df_batch], ignore_index=True)\n",
    "        df = df.drop_duplicates(subset=cols).reset_index(drop=True)\n",
    "        new_added_now = len(df) - prev_len\n",
    "        added += new_added_now\n",
    "        print(f\"Clase {clase}: intento {i+1}/{iterations} -> agregados {new_added_now}, total {added}/{needed}\")\n",
    "        time.sleep(0.5)\n",
    "        seeds = list(pd.unique((seeds + df_batch[TEXTO].astype(str).tolist())))[-8:]\n",
    "    added_summary[clase] = added\n",
    "\n",
    "# =====================================================\n",
    "# 7️⃣ Resultados finales\n",
    "# =====================================================\n",
    "added_rows = df.merge(df_before, on=cols, how=\"left\", indicator=True).loc[lambda x: x[\"_merge\"] == \"left_only\", cols]\n",
    "print(\"Resumen agregado por clase:\", added_summary)\n",
    "print(\"Nuevas filas agregadas totales:\", len(added_rows))\n",
    "\n",
    "df_train_final = df  # train real + sintético\n",
    "\n",
    "print(\"\\nDistribución final en train (balanceada):\")\n",
    "print(df_train_final[ODS].value_counts())"
   ]
  },
  {
   "cell_type": "code",
   "execution_count": 375,
   "id": "4a14482a",
   "metadata": {},
   "outputs": [
    {
     "name": "stdout",
     "output_type": "stream",
     "text": [
      "Tokens usados en el prompt: 1197\n",
      "Tokens usados en la respuesta: 743\n",
      "Tokens usados en total: 1940\n"
     ]
    }
   ],
   "source": [
    "print(f\"Tokens usados en el prompt: {response.usage.prompt_tokens}\")\n",
    "print(f\"Tokens usados en la respuesta: {response.usage.completion_tokens}\")\n",
    "print(f\"Tokens usados en total: {response.usage.total_tokens}\")"
   ]
  },
  {
   "cell_type": "code",
   "execution_count": 376,
   "id": "57e3a941",
   "metadata": {},
   "outputs": [
    {
     "name": "stdout",
     "output_type": "stream",
     "text": [
      "Distribución de clases:\n",
      "        cantidad  porcentaje\n",
      "labels                      \n",
      "1            738        0.33\n",
      "3            738        0.33\n",
      "4            738        0.33\n"
     ]
    }
   ],
   "source": [
    "# 9. Distribución de etiquetas\n",
    "print(\"Distribución de clases:\")\n",
    "dist_df = pd.DataFrame(\n",
    "    {\n",
    "        \"cantidad\": df_train_final[\"labels\"].value_counts(),\n",
    "        \"porcentaje\": round(df[\"labels\"].value_counts() / len(df), 2),\n",
    "    }\n",
    ")\n",
    "print(dist_df)"
   ]
  },
  {
   "cell_type": "code",
   "execution_count": 377,
   "id": "9524f6c1",
   "metadata": {},
   "outputs": [],
   "source": [
    "colors = {1: \"#1D8F97\", 3: \"#9bd137\", 4: \"#DA2C38\"}"
   ]
  },
  {
   "cell_type": "code",
   "execution_count": 378,
   "id": "78825125",
   "metadata": {},
   "outputs": [
    {
     "data": {
      "image/png": "[encoded data removed]",
      "text/plain": [
       "<Figure size 640x480 with 1 Axes>"
      ]
     },
     "metadata": {},
     "output_type": "display_data"
    }
   ],
   "source": [
    "value_counts = df_train_final[\"labels\"].value_counts()\n",
    "x_values = value_counts.index\n",
    "y_values = value_counts.values\n",
    "\n",
    "sns.barplot(x=x_values, y=y_values, palette=colors, hue=x_values, legend=False)\n",
    "\n",
    "plt.title(\"Distribución de Clases\")\n",
    "plt.xlabel(\"Clases\")\n",
    "plt.ylabel(\"Frecuencia\")\n",
    "plt.show()"
   ]
  },
  {
   "cell_type": "code",
   "execution_count": 379,
   "id": "d284ff66",
   "metadata": {},
   "outputs": [],
   "source": [
    "# Entrenar solo con el train aumentado\n",
    "X_train = df_train_final[\"textos\"]\n",
    "y_train = df_train_final[\"labels\"]\n",
    "\n",
    "# Validación y test siempre con datos reales\n",
    "X_val = df_val_real[\"textos\"]\n",
    "y_val = df_val_real[\"labels\"]\n",
    "X_test = df_test_real[\"textos\"]\n",
    "y_test = df_test_real[\"labels\"]"
   ]
  },
  {
   "cell_type": "code",
   "execution_count": 382,
   "id": "576ed76c",
   "metadata": {},
   "outputs": [
    {
     "name": "stdout",
     "output_type": "stream",
     "text": [
      "              precision    recall  f1-score   support\n",
      "\n",
      "           1       0.97      0.93      0.95       108\n",
      "           3       0.94      0.98      0.96       176\n",
      "           4       0.99      0.98      0.98       220\n",
      "\n",
      "    accuracy                           0.97       504\n",
      "   macro avg       0.97      0.96      0.96       504\n",
      "weighted avg       0.97      0.97      0.97       504\n",
      "\n"
     ]
    }
   ],
   "source": [
    "vectorizer_ngram = CountVectorizer(ngram_range=(1,1))\n",
    "X_train_vec = vectorizer_ngram.fit_transform(X_train.fillna(\"\"))\n",
    "X_val_vec = vectorizer_ngram.transform(X_val.fillna(\"\"))\n",
    "X_test_vec = vectorizer_ngram.transform(X_test.fillna(\"\"))\n",
    "\n",
    "# Entrenamiento\n",
    "best_model = LogisticRegression(max_iter=1000, random_state=42)\n",
    "best_model.fit(X_train_vec, y_train)\n",
    "\n",
    "# Validación\n",
    "y_val_preds = best_model.predict(X_val_vec)\n",
    "print(classification_report(y_val, y_val_preds))"
   ]
  },
  {
   "cell_type": "code",
   "execution_count": 384,
   "id": "fd052303",
   "metadata": {},
   "outputs": [
    {
     "data": {
      "image/png": "[encoded data removed]",
      "text/plain": [
       "<Figure size 800x600 with 2 Axes>"
      ]
     },
     "metadata": {},
     "output_type": "display_data"
    }
   ],
   "source": [
    "\n",
    "from matplotlib.colors import LinearSegmentedColormap\n",
    "\n",
    "# Crear colormap personalizado con los colores especificados que se usan en la ppt\n",
    "colors = ['#FFFFFF', '#AEEA00', '#219A0B', '#0B4944']\n",
    "custom_cmap = LinearSegmentedColormap.from_list('custom', colors, N=256)\n",
    "\n",
    "cm = confusion_matrix(y_val, y_val_preds)\n",
    "\n",
    "# Visualización 1: Usando ConfusionMatrixDisplay de sklearn\n",
    "fig, ax = plt.subplots(figsize=(8, 6))\n",
    "disp = ConfusionMatrixDisplay(\n",
    "    confusion_matrix=cm, display_labels=[\"ODS 1\", \"ODS 3\", \"ODS 4\"]\n",
    ")\n",
    "disp.plot(cmap=custom_cmap, values_format=\"d\", ax=ax)\n",
    "plt.title(\n",
    "    \"Matriz de Confusión - Logistic Regression con Unigramas\",\n",
    "    fontsize=14,\n",
    "    fontweight=\"bold\",\n",
    ")\n",
    "plt.tight_layout()\n",
    "plt.show()"
   ]
  },
  {
   "cell_type": "code",
   "execution_count": 388,
   "id": "0525ac56",
   "metadata": {},
   "outputs": [
    {
     "name": "stdout",
     "output_type": "stream",
     "text": [
      "10-Fold Cross Validation Results:\n",
      "F1-Score: 0.9319 (+/- 0.2363)\n",
      "Precision: 0.9496 (+/- 0.1355)\n",
      "Recall: 0.9414 (+/- 0.1802)\n"
     ]
    }
   ],
   "source": [
    "cv_scores_f1 = cross_val_score(best_model, X_train_vec, y_train, cv=10, scoring='f1_macro')\n",
    "cv_scores_precision = cross_val_score(best_model, X_train_vec, y_train, cv=10, scoring='precision_macro')\n",
    "cv_scores_recall = cross_val_score(best_model, X_train_vec, y_train, cv=10, scoring='recall_macro')\n",
    "\n",
    "print(\"10-Fold Cross Validation Results:\")\n",
    "print(f\"F1-Score: {cv_scores_f1.mean():.4f} (+/- {cv_scores_f1.std() * 2:.4f})\")\n",
    "print(f\"Precision: {cv_scores_precision.mean():.4f} (+/- {cv_scores_precision.std() * 2:.4f})\")\n",
    "print(f\"Recall: {cv_scores_recall.mean():.4f} (+/- {cv_scores_recall.std() * 2:.4f})\")\n"
   ]
  },
  {
   "cell_type": "code",
   "execution_count": 385,
   "id": "a5e5491f",
   "metadata": {},
   "outputs": [],
   "source": [
    "df_train_final.to_excel(r\"datos/Datos_aumentados_train.xlsx\", index=False)"
   ]
  }
 ],
 "metadata": {
  "kernelspec": {
   "display_name": "bi",
   "language": "python",
   "name": "python3"
  },
  "language_info": {
   "codemirror_mode": {
    "name": "ipython",
    "version": 3
   },
   "file_extension": ".py",
   "mimetype": "text/x-python",
   "name": "python",
   "nbconvert_exporter": "python",
   "pygments_lexer": "ipython3",
   "version": "3.12.9"
  }
 },
 "nbformat": 4,
 "nbformat_minor": 5
}
