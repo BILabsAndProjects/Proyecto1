{
 "cells": [
  {
   "cell_type": "code",
   "execution_count": 188,
   "id": "113d34ef",
   "metadata": {},
   "outputs": [
    {
     "data": {
      "text/plain": [
       "True"
      ]
     },
     "execution_count": 188,
     "metadata": {},
     "output_type": "execute_result"
    }
   ],
   "source": [
    "import pandas as pd\n",
    "import seaborn as sns\n",
    "import matplotlib.pyplot as plt\n",
    "import numpy as np\n",
    "import nltk\n",
    "import re\n",
    "nltk.download('stopwords', quiet=True)"
   ]
  },
  {
   "cell_type": "markdown",
   "id": "f148c908",
   "metadata": {},
   "source": [
    "# 1. Exploración de datos "
   ]
  },
  {
   "cell_type": "code",
   "execution_count": 189,
   "id": "867d7505",
   "metadata": {},
   "outputs": [
    {
     "data": {
      "text/html": [
       "<div>\n",
       "<style scoped>\n",
       "    .dataframe tbody tr th:only-of-type {\n",
       "        vertical-align: middle;\n",
       "    }\n",
       "\n",
       "    .dataframe tbody tr th {\n",
       "        vertical-align: top;\n",
       "    }\n",
       "\n",
       "    .dataframe thead th {\n",
       "        text-align: right;\n",
       "    }\n",
       "</style>\n",
       "<table border=\"1\" class=\"dataframe\">\n",
       "  <thead>\n",
       "    <tr style=\"text-align: right;\">\n",
       "      <th></th>\n",
       "      <th>textos</th>\n",
       "      <th>labels</th>\n",
       "    </tr>\n",
       "  </thead>\n",
       "  <tbody>\n",
       "    <tr>\n",
       "      <th>0</th>\n",
       "      <td>\"Aprendizaje\" y \"educación\" se consideran sinó...</td>\n",
       "      <td>4</td>\n",
       "    </tr>\n",
       "    <tr>\n",
       "      <th>1</th>\n",
       "      <td>Para los niños más pequeños (bebés y niños peq...</td>\n",
       "      <td>4</td>\n",
       "    </tr>\n",
       "    <tr>\n",
       "      <th>2</th>\n",
       "      <td>Además, la formación de especialistas en medic...</td>\n",
       "      <td>3</td>\n",
       "    </tr>\n",
       "    <tr>\n",
       "      <th>3</th>\n",
       "      <td>En los países de la OCDE se tiende a pasar de ...</td>\n",
       "      <td>4</td>\n",
       "    </tr>\n",
       "    <tr>\n",
       "      <th>4</th>\n",
       "      <td>Este grupo se centró en las personas que padec...</td>\n",
       "      <td>3</td>\n",
       "    </tr>\n",
       "  </tbody>\n",
       "</table>\n",
       "</div>"
      ],
      "text/plain": [
       "                                              textos  labels\n",
       "0  \"Aprendizaje\" y \"educación\" se consideran sinó...       4\n",
       "1  Para los niños más pequeños (bebés y niños peq...       4\n",
       "2  Además, la formación de especialistas en medic...       3\n",
       "3  En los países de la OCDE se tiende a pasar de ...       4\n",
       "4  Este grupo se centró en las personas que padec...       3"
      ]
     },
     "execution_count": 189,
     "metadata": {},
     "output_type": "execute_result"
    }
   ],
   "source": [
    "df_data = pd.read_excel(r\"Datos_proyecto.xlsx\")\n",
    "df_data.head()"
   ]
  },
  {
   "cell_type": "markdown",
   "id": "995f884d",
   "metadata": {},
   "source": [
    "## 1.1 Calidad de datos\n",
    "\n",
    "### 1.1.1 Completitud\n",
    "\n",
    "Se observa que no hay valores nulos en el dataset, hay 2424 filas y 2 columnas, y para cada columna ha 2424 valores no nulos. La columna `textos` es de tipo objeto (string) y la columna `labels` es de tipo entero (int64)."
   ]
  },
  {
   "cell_type": "code",
   "execution_count": 190,
   "id": "e6fec472",
   "metadata": {},
   "outputs": [
    {
     "name": "stdout",
     "output_type": "stream",
     "text": [
      "<class 'pandas.core.frame.DataFrame'>\n",
      "RangeIndex: 2424 entries, 0 to 2423\n",
      "Data columns (total 2 columns):\n",
      " #   Column  Non-Null Count  Dtype \n",
      "---  ------  --------------  ----- \n",
      " 0   textos  2424 non-null   object\n",
      " 1   labels  2424 non-null   int64 \n",
      "dtypes: int64(1), object(1)\n",
      "memory usage: 38.0+ KB\n"
     ]
    }
   ],
   "source": [
    "df_data.info()"
   ]
  },
  {
   "cell_type": "code",
   "execution_count": 191,
   "id": "19d1250e",
   "metadata": {},
   "outputs": [
    {
     "data": {
      "text/plain": [
       "Index(['textos', 'labels'], dtype='object')"
      ]
     },
     "execution_count": 191,
     "metadata": {},
     "output_type": "execute_result"
    }
   ],
   "source": [
    "df_data.columns"
   ]
  },
  {
   "cell_type": "code",
   "execution_count": 192,
   "id": "7548de21",
   "metadata": {},
   "outputs": [
    {
     "data": {
      "text/plain": [
       "textos    2424\n",
       "labels    2424\n",
       "dtype: int64"
      ]
     },
     "execution_count": 192,
     "metadata": {},
     "output_type": "execute_result"
    }
   ],
   "source": [
    "df_data.count()"
   ]
  },
  {
   "cell_type": "code",
   "execution_count": 193,
   "id": "7518e8c3",
   "metadata": {},
   "outputs": [
    {
     "name": "stdout",
     "output_type": "stream",
     "text": [
      "Datos Nulos\n",
      "textos    0\n",
      "labels    0\n",
      "dtype: int64\n"
     ]
    }
   ],
   "source": [
    "#Valores nulos por columna\n",
    "print(\"Datos Nulos\")\n",
    "print(df_data.isnull().sum())"
   ]
  },
  {
   "cell_type": "code",
   "execution_count": 194,
   "id": "0158a5f9",
   "metadata": {},
   "outputs": [
    {
     "data": {
      "text/plain": [
       "textos    2424\n",
       "labels    2424\n",
       "dtype: int64"
      ]
     },
     "execution_count": 194,
     "metadata": {},
     "output_type": "execute_result"
    }
   ],
   "source": [
    "#Eliminar filas sin texto o etiqueta\n",
    "df = df_data.dropna(subset=[\"textos\", \"labels\"])\n",
    "df.count()"
   ]
  },
  {
   "cell_type": "code",
   "execution_count": 195,
   "id": "7965aa75",
   "metadata": {},
   "outputs": [
    {
     "name": "stdout",
     "output_type": "stream",
     "text": [
      "Número de textos vacíos: 0\n"
     ]
    }
   ],
   "source": [
    "# verificar si hay textos con strings vacíos\n",
    "num_empty = (df['textos'].str.strip() == '').sum()\n",
    "print('Número de textos vacíos:', num_empty)"
   ]
  },
  {
   "cell_type": "markdown",
   "id": "d3b5f238",
   "metadata": {},
   "source": [
    "### 1.1.2 Unicidad\n",
    "\n",
    "Se obsera que no hay duplicados en el dataset."
   ]
  },
  {
   "cell_type": "code",
   "execution_count": 196,
   "id": "fdfd701f",
   "metadata": {},
   "outputs": [
    {
     "name": "stdout",
     "output_type": "stream",
     "text": [
      "Duplicados encontrados: 0\n"
     ]
    }
   ],
   "source": [
    "duplicados = df.duplicated(subset = [\"textos\"])\n",
    "print(f\"Duplicados encontrados: {duplicados.sum()}\")"
   ]
  },
  {
   "cell_type": "code",
   "execution_count": 197,
   "id": "c878e8bd",
   "metadata": {},
   "outputs": [
    {
     "data": {
      "text/plain": [
       "textos    2424\n",
       "labels    2424\n",
       "dtype: int64"
      ]
     },
     "execution_count": 197,
     "metadata": {},
     "output_type": "execute_result"
    }
   ],
   "source": [
    "# 6. Eliminar duplicados exactos (mismo texto y misma etiqueta)\n",
    "df = df.drop_duplicates(subset=[\"textos\", \"labels\"])\n",
    "df.count()"
   ]
  },
  {
   "cell_type": "markdown",
   "id": "58b32c01",
   "metadata": {},
   "source": [
    "### 1.1.3 Validez\n",
    "\n",
    "Revisar que todas las opiniones estén en el mismo idioma (español) y que las etiquetas sean del conjunto {1, 3, 4}."
   ]
  },
  {
   "cell_type": "code",
   "execution_count": 198,
   "id": "603f57b9",
   "metadata": {},
   "outputs": [
    {
     "name": "stdout",
     "output_type": "stream",
     "text": [
      "0\n"
     ]
    }
   ],
   "source": [
    "# se demora alrededor de 20 segundos\n",
    "\n",
    "from langdetect import detect\n",
    "\n",
    "def detect_language(text):\n",
    "    try:\n",
    "        return detect(text)\n",
    "    except:\n",
    "        return \"unknown\"\n",
    "\n",
    "df[\"language\"] = df[\"textos\"].apply(detect_language)\n",
    "\n",
    "print(len(df[df['language'] != 'es']))"
   ]
  },
  {
   "cell_type": "code",
   "execution_count": 199,
   "id": "25ecb602",
   "metadata": {},
   "outputs": [
    {
     "data": {
      "text/plain": [
       "array([4, 3, 1])"
      ]
     },
     "execution_count": 199,
     "metadata": {},
     "output_type": "execute_result"
    }
   ],
   "source": [
    "# clases en el datset\n",
    "df['labels'].unique()"
   ]
  },
  {
   "cell_type": "markdown",
   "id": "e336a1d7",
   "metadata": {},
   "source": [
    "Todos los textos están en español, no se encontraron textos en otros idiomas."
   ]
  },
  {
   "cell_type": "code",
   "execution_count": 200,
   "id": "fc6726ba",
   "metadata": {},
   "outputs": [],
   "source": [
    "df = df.drop(columns=['language'])"
   ]
  },
  {
   "cell_type": "markdown",
   "id": "1849dc42",
   "metadata": {},
   "source": [
    "### 1.1.4 Consistencia"
   ]
  },
  {
   "cell_type": "code",
   "execution_count": 201,
   "id": "7ecd3c5e",
   "metadata": {},
   "outputs": [],
   "source": [
    "df[\"word_count\"] = df[\"textos\"].apply(lambda x: len(str(x).split()))"
   ]
  },
  {
   "cell_type": "code",
   "execution_count": 202,
   "id": "4cae7287",
   "metadata": {},
   "outputs": [
    {
     "data": {
      "image/png": "[encoded data removed]",
      "text/plain": [
       "<Figure size 640x480 with 1 Axes>"
      ]
     },
     "metadata": {},
     "output_type": "display_data"
    }
   ],
   "source": [
    "plt.boxplot(df['word_count'])\n",
    "plt.title(\"Boxplot del número de palabras\")\n",
    "plt.ylabel(\"# de palabras\")\n",
    "plt.show()"
   ]
  },
  {
   "cell_type": "markdown",
   "id": "c4d30a3f",
   "metadata": {},
   "source": [
    "Se observan outliers en textos que tienen una alta cantidad de palabras."
   ]
  },
  {
   "cell_type": "markdown",
   "id": "00c58491",
   "metadata": {},
   "source": [
    "# 2. Preparación de datos y continuación de la exploración"
   ]
  },
  {
   "cell_type": "markdown",
   "id": "c27ee105",
   "metadata": {},
   "source": [
    "## 2.1 Tokenización y limpieza de texto \n",
    "\n",
    "1. Definir función para limpiar y tokenizar el texto.  \n",
    "2. Aplicar la función a la columna \"textos\" y almacenar el resultado en una nueva columna.  \n",
    "3. Crear un dataframe de palabras tokenizadas para análisis posterior."
   ]
  },
  {
   "cell_type": "code",
   "execution_count": 203,
   "id": "b9da8cf4",
   "metadata": {},
   "outputs": [],
   "source": [
    "wpt = nltk.WordPunctTokenizer()\n",
    "stop_words = set(nltk.corpus.stopwords.words('spanish'))\n",
    "\n",
    "def tokenize_text(text):\n",
    "    #Elimina caracteres especiales y espacios en blanco\n",
    "    doc = re.sub(r'[^a-zA-Z\\s]', \"\", text, re.I|re.A)\n",
    "    doc = doc.lower()\n",
    "    doc = doc.strip()\n",
    "    #Tokenizar documento\n",
    "    tokens = wpt.tokenize(doc)\n",
    "    #Filtrar palabras\n",
    "    filtered_tokens = [token for token in tokens if token not in stop_words]\n",
    "    #Recrear documento de texto\n",
    "    doc = ' '.join(filtered_tokens)\n",
    "    return doc, filtered_tokens\n",
    "\n",
    "normalized_df = df.copy()\n",
    "normalized_df[['cleaned_text', 'tokens_list']] = normalized_df[\"textos\"].apply(\n",
    "    lambda x: pd.Series(tokenize_text(x))\n",
    ")\n",
    "\n",
    "# recalcular word_count\n",
    "normalized_df[\"word_count\"] = normalized_df[\"textos\"].apply(lambda x: len(str(x).split()))"
   ]
  },
  {
   "cell_type": "code",
   "execution_count": 204,
   "id": "7aefc8d3",
   "metadata": {},
   "outputs": [
    {
     "data": {
      "text/html": [
       "<div>\n",
       "<style scoped>\n",
       "    .dataframe tbody tr th:only-of-type {\n",
       "        vertical-align: middle;\n",
       "    }\n",
       "\n",
       "    .dataframe tbody tr th {\n",
       "        vertical-align: top;\n",
       "    }\n",
       "\n",
       "    .dataframe thead th {\n",
       "        text-align: right;\n",
       "    }\n",
       "</style>\n",
       "<table border=\"1\" class=\"dataframe\">\n",
       "  <thead>\n",
       "    <tr style=\"text-align: right;\">\n",
       "      <th></th>\n",
       "      <th>textos</th>\n",
       "      <th>labels</th>\n",
       "      <th>word_count</th>\n",
       "      <th>cleaned_text</th>\n",
       "      <th>tokens_list</th>\n",
       "    </tr>\n",
       "  </thead>\n",
       "  <tbody>\n",
       "    <tr>\n",
       "      <th>0</th>\n",
       "      <td>\"Aprendizaje\" y \"educación\" se consideran sinó...</td>\n",
       "      <td>4</td>\n",
       "      <td>48</td>\n",
       "      <td>aprendizaje educacin consideran sinnimos escol...</td>\n",
       "      <td>[aprendizaje, educacin, consideran, sinnimos, ...</td>\n",
       "    </tr>\n",
       "    <tr>\n",
       "      <th>1</th>\n",
       "      <td>Para los niños más pequeños (bebés y niños peq...</td>\n",
       "      <td>4</td>\n",
       "      <td>72</td>\n",
       "      <td>nios ms pequeos bebs nios pequeos capacitacin ...</td>\n",
       "      <td>[nios, ms, pequeos, bebs, nios, pequeos, capac...</td>\n",
       "    </tr>\n",
       "    <tr>\n",
       "      <th>2</th>\n",
       "      <td>Además, la formación de especialistas en medic...</td>\n",
       "      <td>3</td>\n",
       "      <td>93</td>\n",
       "      <td>adems formacin especialistas medicina general ...</td>\n",
       "      <td>[adems, formacin, especialistas, medicina, gen...</td>\n",
       "    </tr>\n",
       "    <tr>\n",
       "      <th>3</th>\n",
       "      <td>En los países de la OCDE se tiende a pasar de ...</td>\n",
       "      <td>4</td>\n",
       "      <td>109</td>\n",
       "      <td>pases ocde tiende pasar cursos obligatorios op...</td>\n",
       "      <td>[pases, ocde, tiende, pasar, cursos, obligator...</td>\n",
       "    </tr>\n",
       "    <tr>\n",
       "      <th>4</th>\n",
       "      <td>Este grupo se centró en las personas que padec...</td>\n",
       "      <td>3</td>\n",
       "      <td>94</td>\n",
       "      <td>grupo centr personas padecen trastornos mental...</td>\n",
       "      <td>[grupo, centr, personas, padecen, trastornos, ...</td>\n",
       "    </tr>\n",
       "  </tbody>\n",
       "</table>\n",
       "</div>"
      ],
      "text/plain": [
       "                                              textos  labels  word_count  \\\n",
       "0  \"Aprendizaje\" y \"educación\" se consideran sinó...       4          48   \n",
       "1  Para los niños más pequeños (bebés y niños peq...       4          72   \n",
       "2  Además, la formación de especialistas en medic...       3          93   \n",
       "3  En los países de la OCDE se tiende a pasar de ...       4         109   \n",
       "4  Este grupo se centró en las personas que padec...       3          94   \n",
       "\n",
       "                                        cleaned_text  \\\n",
       "0  aprendizaje educacin consideran sinnimos escol...   \n",
       "1  nios ms pequeos bebs nios pequeos capacitacin ...   \n",
       "2  adems formacin especialistas medicina general ...   \n",
       "3  pases ocde tiende pasar cursos obligatorios op...   \n",
       "4  grupo centr personas padecen trastornos mental...   \n",
       "\n",
       "                                         tokens_list  \n",
       "0  [aprendizaje, educacin, consideran, sinnimos, ...  \n",
       "1  [nios, ms, pequeos, bebs, nios, pequeos, capac...  \n",
       "2  [adems, formacin, especialistas, medicina, gen...  \n",
       "3  [pases, ocde, tiende, pasar, cursos, obligator...  \n",
       "4  [grupo, centr, personas, padecen, trastornos, ...  "
      ]
     },
     "execution_count": 204,
     "metadata": {},
     "output_type": "execute_result"
    }
   ],
   "source": [
    "normalized_df.head()"
   ]
  },
  {
   "cell_type": "markdown",
   "id": "5d97f458",
   "metadata": {},
   "source": [
    "## 2.2 Exploración de distribución de datos"
   ]
  },
  {
   "cell_type": "markdown",
   "id": "fcd312fc",
   "metadata": {},
   "source": [
    "### 2.2.1 Análisis de balance de clases"
   ]
  },
  {
   "cell_type": "code",
   "execution_count": 205,
   "id": "bf9ba56e",
   "metadata": {},
   "outputs": [
    {
     "name": "stdout",
     "output_type": "stream",
     "text": [
      "Distribución de clases:\n",
      "        cantidad  porcentaje\n",
      "labels                      \n",
      "4           1025        0.42\n",
      "3            894        0.37\n",
      "1            505        0.21\n"
     ]
    }
   ],
   "source": [
    "# 9. Distribución de etiquetas\n",
    "print(\"Distribución de clases:\")\n",
    "dist_df = pd.DataFrame({\"cantidad\": df[\"labels\"].value_counts(), \"porcentaje\": round(df[\"labels\"].value_counts() / len(df), 2)})\n",
    "print(dist_df)"
   ]
  },
  {
   "cell_type": "code",
   "execution_count": 206,
   "id": "8847df81",
   "metadata": {},
   "outputs": [
    {
     "data": {
      "image/png": "[encoded data removed]",
      "text/plain": [
       "<Figure size 640x480 with 1 Axes>"
      ]
     },
     "metadata": {},
     "output_type": "display_data"
    }
   ],
   "source": [
    "sns.barplot(x=df[\"labels\"].value_counts().index, y=df[\"labels\"].value_counts().values)\n",
    "plt.title(\"Distribución de Clases\")\n",
    "plt.xlabel(\"Clases\")\n",
    "plt.ylabel(\"Frecuencia\")\n",
    "plt.show()"
   ]
  },
  {
   "cell_type": "markdown",
   "id": "0b5a941c",
   "metadata": {},
   "source": [
    "Las clases 4 y 3 tienen una mayor representación en el dataset, mientras que las clases 1 tiene una representación menor."
   ]
  },
  {
   "cell_type": "markdown",
   "id": "87be156b",
   "metadata": {},
   "source": [
    "### 2.2.2 Análisis de la distribución del número de palabras por clase"
   ]
  },
  {
   "cell_type": "markdown",
   "id": "50915739",
   "metadata": {},
   "source": [
    "Se verifica que la diferencia entre las medias de la longitud de los textos de cada clase no sea significativa con una prueba *ANOVA*."
   ]
  },
  {
   "cell_type": "code",
   "execution_count": 207,
   "id": "f386b7e3",
   "metadata": {},
   "outputs": [
    {
     "data": {
      "image/png": "[encoded data removed]",
      "text/plain": [
       "<Figure size 800x600 with 1 Axes>"
      ]
     },
     "metadata": {},
     "output_type": "display_data"
    }
   ],
   "source": [
    "plt.figure(figsize=(8,6))\n",
    "sns.boxplot(x='labels', y='word_count', data=df)\n",
    "\n",
    "plt.title(\"Distribución de word_count por labels\")\n",
    "plt.xlabel(\"Labels\")\n",
    "plt.ylabel(\"word_count\")\n",
    "plt.show()"
   ]
  },
  {
   "cell_type": "code",
   "execution_count": 210,
   "id": "b2c8793e",
   "metadata": {},
   "outputs": [
    {
     "data": {
      "image/png": "[encoded data removed]",
      "text/plain": [
       "<Figure size 1500x500 with 3 Axes>"
      ]
     },
     "metadata": {},
     "output_type": "display_data"
    }
   ],
   "source": [
    "fig, ax = plt.subplots(1, 3, figsize=(15,5))\n",
    "\n",
    "for i, label in enumerate(sorted(df['labels'].unique())):\n",
    "    ax[i].hist(df[df['labels'] == label]['word_count'])\n",
    "    ax[i].set_xlabel(\"word_count\")\n",
    "    ax[i].set_ylabel(\"frecuencia\")\n",
    "    ax[i].set_title(f\"Label: {label}\")\n",
    "    \n",
    "    \n",
    "plt.show()"
   ]
  },
  {
   "cell_type": "markdown",
   "id": "68ad70da",
   "metadata": {},
   "source": [
    "Hipótesis Nula ($H_0$): No hay diferencia en la media de la variable numérica `word_count` para todos los grupos: $ \\mu_1 = \\mu_3 = \\mu_4 $.\n",
    "\n",
    "Hipótesis Alterna ($H_1$): Hay una diferencia en la media de la variable numérica `word_count` para al menos uno de los grupos: $ \\mu_i \\neq \\mu_j $ para al menos un par $(i, j)$, donde $i, j \\in \\{1, 3, 4\\}$ y $i \\neq j$."
   ]
  },
  {
   "cell_type": "code",
   "execution_count": null,
   "id": "7f3530a4",
   "metadata": {},
   "outputs": [
    {
     "name": "stdout",
     "output_type": "stream",
     "text": [
      "Resultados del Test ANOVA:\n",
      "==============================\n",
      "Estadístico F: 1.8812\n",
      "P-value: 0.1526\n",
      "==============================\n",
      "Interpretación:\n",
      "P-value (0.1526) es mayor que 0.05.\n",
      "No podemos rechazar la hipótesis nula (H₀).\n",
      "Conclusión: No hay evidencia suficiente para afirmar que las medias del 'word_count' son diferentes entre los grupos.\n",
      "\n",
      "=> Este resultado apoya tu objetivo de mostrar que las medias no son significativamente diferentes.\n"
     ]
    }
   ],
   "source": [
    "from scipy.stats import f_oneway\n",
    "\n",
    "label1_group = normalized_df[normalized_df['labels'] == 1]['word_count']\n",
    "label3_group = normalized_df[normalized_df['labels'] == 3]['word_count']\n",
    "label4_group = normalized_df[normalized_df['labels'] == 4]['word_count']\n",
    "\n",
    "f_statistic, p_value = f_oneway(label1_group, label3_group, label4_group)\n",
    "\n",
    "print(\"Resultados del Test ANOVA:\")\n",
    "print(\"=\"*30)\n",
    "print(f\"Estadístico F: {f_statistic:.4f}\")\n",
    "print(f\"P-value: {p_value:.4f}\")\n",
    "print(\"=\"*30)\n",
    "\n",
    "alpha = 0.05\n",
    "\n",
    "print(\"Interpretación:\")\n",
    "if p_value < alpha:\n",
    "    print(f\"p-value ({p_value:.4f}) es menor que {alpha}.\")\n",
    "    print(\"Se rechaza la hipótesis nula (H0).\")\n",
    "    print(\"Conclusión: Existe una diferencia estadísticamente significativa en la media de 'word_count' de al menos uno de los grupos.\")\n",
    "else:\n",
    "    print(f\"p-value ({p_value:.4f}) es mayor que {alpha}.\")\n",
    "    print(\"No se puede rechazar la hipótesis nula (H0).\")\n",
    "    print(\"Conclusión: No hay evidencia suficiente para afirmar que las medias de 'word_count' son diferentes entre los grupos.\")"
   ]
  },
  {
   "cell_type": "markdown",
   "id": "d61886db",
   "metadata": {},
   "source": [
    "Dado el resultado de la prueba *ANOVA* de una vía con $\\alpha = 0.05$, no se puede rechazar la hipótesis nula, lo que indica que no hay evidencia suficiente para afirmar que existen diferencias significativas en la media de la variable `word_count` entre las diferentes clases.\n",
    "\n",
    "De este modo, se tiene claridad en que la longitud de los textos no introduce un sesgo significativo en el análisis de las opiniones clasificadas en las diferentes clases."
   ]
  },
  {
   "cell_type": "markdown",
   "id": "c41c35f6",
   "metadata": {},
   "source": [
    "### 2.2.3 Distribución del número de palabras en todo el dataset"
   ]
  },
  {
   "cell_type": "code",
   "execution_count": 209,
   "id": "a55d0d39",
   "metadata": {},
   "outputs": [
    {
     "data": {
      "image/png": "[encoded data removed]",
      "text/plain": [
       "<Figure size 640x480 with 1 Axes>"
      ]
     },
     "metadata": {},
     "output_type": "display_data"
    },
    {
     "data": {
      "image/png": "[encoded data removed]",
      "text/plain": [
       "<Figure size 640x480 with 1 Axes>"
      ]
     },
     "metadata": {},
     "output_type": "display_data"
    }
   ],
   "source": [
    "plt.hist(normalized_df['word_count'])\n",
    "plt.title(\"Distribución de número de palabras\")\n",
    "plt.xlabel(\"# de palabras\")\n",
    "plt.ylabel(\"Frecuencia\")\n",
    "plt.show()\n",
    "\n",
    "plt.boxplot(normalized_df['word_count'])\n",
    "plt.title(\"Boxplot del número de palabras\")\n",
    "plt.ylabel(\"# de palabras\")\n",
    "plt.show()"
   ]
  },
  {
   "cell_type": "markdown",
   "id": "37d55a6c",
   "metadata": {},
   "source": [
    "## 2.3 Exploración de las palabras más frecuentes y representativas por clase"
   ]
  }
 ],
 "metadata": {
  "kernelspec": {
   "display_name": "bi",
   "language": "python",
   "name": "python3"
  },
  "language_info": {
   "codemirror_mode": {
    "name": "ipython",
    "version": 3
   },
   "file_extension": ".py",
   "mimetype": "text/x-python",
   "name": "python",
   "nbconvert_exporter": "python",
   "pygments_lexer": "ipython3",
   "version": "3.12.11"
  }
 },
 "nbformat": 4,
 "nbformat_minor": 5
}
