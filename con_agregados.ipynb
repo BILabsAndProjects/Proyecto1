{
 "cells": [
  {
   "cell_type": "code",
   "execution_count": 11,
   "id": "849b79d8",
   "metadata": {},
   "outputs": [],
   "source": [
    "import pandas as pd\n",
    "import numpy as np\n",
    "import seaborn as sns\n",
    "import matplotlib.pyplot as plt\n",
    "import nltk\n",
    "import re\n",
    "\n",
    "from langdetect import detect\n",
    "from scipy.stats import f_oneway\n",
    "from collections import Counter\n",
    "\n",
    "nltk.download(\"stopwords\", quiet=True)\n",
    "\n",
    "from nltk.stem.snowball import SpanishStemmer\n",
    "from sklearn.feature_extraction.text import CountVectorizer, TfidfVectorizer\n",
    "from sklearn.model_selection import train_test_split, GridSearchCV\n",
    "from sklearn.metrics import (\n",
    "    classification_report,\n",
    "    f1_score,\n",
    "    precision_score,\n",
    "    recall_score,\n",
    "    confusion_matrix,\n",
    "    ConfusionMatrixDisplay,\n",
    ")\n",
    "from sklearn.linear_model import LogisticRegression"
   ]
  },
  {
   "cell_type": "code",
   "execution_count": 12,
   "id": "2371661a",
   "metadata": {},
   "outputs": [],
   "source": [
    "df_train = pd.read_excel(r\"df_retrain/datos_train.xlsx\")\n",
    "df_val = pd.read_excel(r\"df_retrain/datos_val.xlsx\")\n",
    "df_test = pd.read_excel(r\"df_retrain/datos_test.xlsx\")"
   ]
  },
  {
   "cell_type": "code",
   "execution_count": 13,
   "id": "4dc4a49b",
   "metadata": {},
   "outputs": [
    {
     "name": "stdout",
     "output_type": "stream",
     "text": [
      "OPENAI_API_KEY cargada correctamente: True\n"
     ]
    }
   ],
   "source": [
    "#La parte de creación de datos sinteticos correrla una única vez para generar el dataframe de pruebas. Luego guardar en xlsx para su recuperación\n",
    "from pathlib import Path\n",
    "import sys, site, platform, os, subprocess,time\n",
    "\n",
    "# cargar dotenv (instala python-dotenv si hace falta)\n",
    "try:\n",
    "    from dotenv import load_dotenv\n",
    "    load_dotenv()   # carga .env desde el working dir o sus padres\n",
    "except Exception:\n",
    "    pass\n",
    "\n",
    "secret = os.getenv(\"OPENAI_API_KEY\")\n",
    "if not secret:\n",
    "    raise RuntimeError(\n",
    "        \"OPENAI_API_KEY no encontrada. Verifica .env en la ruta y que tenga formato: OPENAI_API_KEY=sk-... (sin comillas)\"\n",
    "    )\n",
    "\n",
    "# No imprimir la clave. Verificar solo que se cargó:\n",
    "print(\"OPENAI_API_KEY cargada correctamente:\", bool(secret))"
   ]
  },
  {
   "cell_type": "code",
   "execution_count": 14,
   "id": "e1025226",
   "metadata": {},
   "outputs": [
    {
     "name": "stdout",
     "output_type": "stream",
     "text": [
      "Python exe: c:\\Users\\aleja\\anaconda3\\envs\\bi\\python.exe\n",
      "Version: 3.12.9 | packaged by conda-forge | (main, Mar  4 2025, 22:37:18) [MSC v.1943 64 bit (AMD64)]\n",
      "Site-packages: ['c:\\\\Users\\\\aleja\\\\anaconda3\\\\envs\\\\bi', 'c:\\\\Users\\\\aleja\\\\anaconda3\\\\envs\\\\bi\\\\Lib\\\\site-packages']\n",
      "OS: Windows-11-10.0.26100-SP0\n"
     ]
    }
   ],
   "source": [
    "print(\"Python exe:\", sys.executable)\n",
    "print(\"Version:\", sys.version)\n",
    "print(\"Site-packages:\", site.getsitepackages() if hasattr(site,\"getsitepackages\") else site.getusersitepackages())\n",
    "print(\"OS:\", platform.platform())"
   ]
  },
  {
   "cell_type": "code",
   "execution_count": 15,
   "id": "be3d36c4",
   "metadata": {},
   "outputs": [
    {
     "name": "stdout",
     "output_type": "stream",
     "text": [
      "OK SDK v1.x, modelos: 96\n"
     ]
    }
   ],
   "source": [
    "from openai import OpenAI\n",
    "client = OpenAI(api_key=secret)\n",
    "models = client.models.list()\n",
    "print(\"OK SDK v1.x, modelos:\", len(models.data))"
   ]
  },
  {
   "cell_type": "code",
   "execution_count": 16,
   "id": "ab4c5330",
   "metadata": {},
   "outputs": [
    {
     "name": "stdout",
     "output_type": "stream",
     "text": [
      "Ejemplos a generar por clase: {3: 118, 1: 381}\n"
     ]
    }
   ],
   "source": [
    "conteo = df_train[\"labels\"].value_counts()\n",
    "max_count = conteo.max()\n",
    "targets = {clase: max_count - count for clase, count in conteo.items() if count < max_count}\n",
    "print(\"Ejemplos a generar por clase:\", targets)"
   ]
  },
  {
   "cell_type": "code",
   "execution_count": 17,
   "id": "b9a28360",
   "metadata": {},
   "outputs": [],
   "source": [
    "#New df para aumentación\n",
    "cols = [\"textos\",\"labels\"]\n",
    "df_before = df_train[cols].drop_duplicates().copy()\n",
    "df_train_new = df_train.copy() "
   ]
  },
  {
   "cell_type": "code",
   "execution_count": 19,
   "id": "8257bec9",
   "metadata": {},
   "outputs": [
    {
     "data": {
      "text/html": [
       "<div>\n",
       "<style scoped>\n",
       "    .dataframe tbody tr th:only-of-type {\n",
       "        vertical-align: middle;\n",
       "    }\n",
       "\n",
       "    .dataframe tbody tr th {\n",
       "        vertical-align: top;\n",
       "    }\n",
       "\n",
       "    .dataframe thead th {\n",
       "        text-align: right;\n",
       "    }\n",
       "</style>\n",
       "<table border=\"1\" class=\"dataframe\">\n",
       "  <thead>\n",
       "    <tr style=\"text-align: right;\">\n",
       "      <th></th>\n",
       "      <th>textos</th>\n",
       "      <th>labels</th>\n",
       "    </tr>\n",
       "  </thead>\n",
       "  <tbody>\n",
       "    <tr>\n",
       "      <th>0</th>\n",
       "      <td>actualmente asamblea legislativa discutiendo p...</td>\n",
       "      <td>4</td>\n",
       "    </tr>\n",
       "    <tr>\n",
       "      <th>1</th>\n",
       "      <td>específicamente costo beneficio día todas pers...</td>\n",
       "      <td>1</td>\n",
       "    </tr>\n",
       "    <tr>\n",
       "      <th>2</th>\n",
       "      <td>embargo calidad general entorno eapi efecto in...</td>\n",
       "      <td>4</td>\n",
       "    </tr>\n",
       "    <tr>\n",
       "      <th>3</th>\n",
       "      <td>parlamento decidió elaborar plan acción salud ...</td>\n",
       "      <td>3</td>\n",
       "    </tr>\n",
       "    <tr>\n",
       "      <th>4</th>\n",
       "      <td>además adultos finlandeses participan cursos p...</td>\n",
       "      <td>4</td>\n",
       "    </tr>\n",
       "  </tbody>\n",
       "</table>\n",
       "</div>"
      ],
      "text/plain": [
       "                                              textos  labels\n",
       "0  actualmente asamblea legislativa discutiendo p...       4\n",
       "1  específicamente costo beneficio día todas pers...       1\n",
       "2  embargo calidad general entorno eapi efecto in...       4\n",
       "3  parlamento decidió elaborar plan acción salud ...       3\n",
       "4  además adultos finlandeses participan cursos p...       4"
      ]
     },
     "execution_count": 19,
     "metadata": {},
     "output_type": "execute_result"
    }
   ],
   "source": [
    "df_train_new.head()"
   ]
  },
  {
   "cell_type": "code",
   "execution_count": null,
   "id": "4460c529",
   "metadata": {},
   "outputs": [],
   "source": [
    "import time, json, math\n",
    "from math import ceil\n",
    "def get_seeds_for_class(df, clase, n=10):\n",
    "    \"\"\"Selecciona hasta n ejemplos reales de esa clase como contexto\"\"\"\n",
    "    s = (\n",
    "        df[df[\"labels\"] == clase][\"textos\"]\n",
    "        .dropna()\n",
    "        .astype(str)\n",
    "        .sample(min(n, sum(df[\"labels\"] == clase)), random_state=42)\n",
    "        .tolist()\n",
    "    )\n",
    "    return s\n",
    "\n",
    "def request_examples(client, clase, seeds, n_to_generate, model=\"gpt-4o-mini\", max_attempts=3):\n",
    "    \"\"\"Solicita ejemplos sintéticos al modelo\"\"\"\n",
    "    prompt = f\"\"\"\n",
    "Genera {n_to_generate} opiniones ciudadanas breves (1–2 oraciones) en español (Colombia),\n",
    "realistas y respetuosas, sobre problemáticas locales que correspondan al ODS {clase}.\n",
    "Requisitos:\n",
    "- TODAS deben pertenecer exclusivamente al ODS {clase}.\n",
    "- Varía zona (urbano/rural), actores e instituciones; evita datos personales.\n",
    "- Mantén neutralidad política.\n",
    "- Devuelve SOLO JSON: lista de objetos con llaves \"textos\" (string) y \"labels\" (entero {clase}).\n",
    "Ejemplos de inspiración:\n",
    "{chr(10).join(f\"- {s}\" for s in seeds) if seeds else \"- (sin ejemplos de contexto)\"}\n",
    "    \"\"\"\n",
    "    for attempt in range(max_attempts):\n",
    "        try:\n",
    "            response = client.chat.completions.create(\n",
    "                model=model,\n",
    "                messages=[\n",
    "                    {\"role\": \"system\", \"content\": \"Eres un generador de datos sintéticos.\"},\n",
    "                    {\"role\": \"user\", \"content\": prompt},\n",
    "                ],\n",
    "                temperature=0.7,\n",
    "            )\n",
    "            raw = response.choices[0].message.content.strip()\n",
    "            if raw.startswith(\"```\"):\n",
    "                raw = raw.strip(\"`\")\n",
    "                if \"\\n\" in raw:\n",
    "                    raw = raw.split(\"\\n\", 1)[1]\n",
    "            data = json.loads(raw)\n",
    "            valid = []\n",
    "            for item in data:\n",
    "                if isinstance(item, dict) and \"textos\" in item and \"labels\" in item:\n",
    "                    valid.append({\"textos\": str(item[\"textos\"]).strip(), \"labels\": int(item[\"labels\"])})\n",
    "            return pd.DataFrame(valid)\n",
    "        except Exception as e:\n",
    "            time.sleep(1 + attempt * 2)\n",
    "    return pd.DataFrame(columns=cols)"
   ]
  },
  {
   "cell_type": "code",
   "execution_count": 23,
   "id": "0348d8ca",
   "metadata": {},
   "outputs": [
    {
     "name": "stdout",
     "output_type": "stream",
     "text": [
      "Clase 3: intento 1/6 -> agregados 20, total 20/118\n"
     ]
    },
    {
     "name": "stderr",
     "output_type": "stream",
     "text": [
      "C:\\Users\\aleja\\AppData\\Local\\Temp\\ipykernel_8460\\2858073272.py:27: FutureWarning: unique with argument that is not not a Series, Index, ExtensionArray, or np.ndarray is deprecated and will raise in a future version.\n",
      "  seeds = list(pd.unique((seeds + df_batch[\"textos\"].astype(str).tolist())))[-8:]\n"
     ]
    },
    {
     "name": "stdout",
     "output_type": "stream",
     "text": [
      "Clase 3: intento 2/6 -> agregados 20, total 40/118\n"
     ]
    },
    {
     "name": "stderr",
     "output_type": "stream",
     "text": [
      "C:\\Users\\aleja\\AppData\\Local\\Temp\\ipykernel_8460\\2858073272.py:27: FutureWarning: unique with argument that is not not a Series, Index, ExtensionArray, or np.ndarray is deprecated and will raise in a future version.\n",
      "  seeds = list(pd.unique((seeds + df_batch[\"textos\"].astype(str).tolist())))[-8:]\n"
     ]
    },
    {
     "name": "stdout",
     "output_type": "stream",
     "text": [
      "Clase 3: intento 3/6 -> agregados 20, total 60/118\n"
     ]
    },
    {
     "name": "stderr",
     "output_type": "stream",
     "text": [
      "C:\\Users\\aleja\\AppData\\Local\\Temp\\ipykernel_8460\\2858073272.py:27: FutureWarning: unique with argument that is not not a Series, Index, ExtensionArray, or np.ndarray is deprecated and will raise in a future version.\n",
      "  seeds = list(pd.unique((seeds + df_batch[\"textos\"].astype(str).tolist())))[-8:]\n"
     ]
    },
    {
     "name": "stdout",
     "output_type": "stream",
     "text": [
      "Clase 3: intento 4/6 -> agregados 20, total 80/118\n"
     ]
    },
    {
     "name": "stderr",
     "output_type": "stream",
     "text": [
      "C:\\Users\\aleja\\AppData\\Local\\Temp\\ipykernel_8460\\2858073272.py:27: FutureWarning: unique with argument that is not not a Series, Index, ExtensionArray, or np.ndarray is deprecated and will raise in a future version.\n",
      "  seeds = list(pd.unique((seeds + df_batch[\"textos\"].astype(str).tolist())))[-8:]\n"
     ]
    },
    {
     "name": "stdout",
     "output_type": "stream",
     "text": [
      "Clase 3: intento 5/6 -> agregados 20, total 100/118\n"
     ]
    },
    {
     "name": "stderr",
     "output_type": "stream",
     "text": [
      "C:\\Users\\aleja\\AppData\\Local\\Temp\\ipykernel_8460\\2858073272.py:27: FutureWarning: unique with argument that is not not a Series, Index, ExtensionArray, or np.ndarray is deprecated and will raise in a future version.\n",
      "  seeds = list(pd.unique((seeds + df_batch[\"textos\"].astype(str).tolist())))[-8:]\n"
     ]
    },
    {
     "name": "stdout",
     "output_type": "stream",
     "text": [
      "Clase 3: intento 6/6 -> agregados 18, total 118/118\n"
     ]
    },
    {
     "name": "stderr",
     "output_type": "stream",
     "text": [
      "C:\\Users\\aleja\\AppData\\Local\\Temp\\ipykernel_8460\\2858073272.py:27: FutureWarning: unique with argument that is not not a Series, Index, ExtensionArray, or np.ndarray is deprecated and will raise in a future version.\n",
      "  seeds = list(pd.unique((seeds + df_batch[\"textos\"].astype(str).tolist())))[-8:]\n"
     ]
    },
    {
     "name": "stdout",
     "output_type": "stream",
     "text": [
      "Clase 1: intento 1/20 -> agregados 20, total 20/381\n"
     ]
    },
    {
     "name": "stderr",
     "output_type": "stream",
     "text": [
      "C:\\Users\\aleja\\AppData\\Local\\Temp\\ipykernel_8460\\2858073272.py:27: FutureWarning: unique with argument that is not not a Series, Index, ExtensionArray, or np.ndarray is deprecated and will raise in a future version.\n",
      "  seeds = list(pd.unique((seeds + df_batch[\"textos\"].astype(str).tolist())))[-8:]\n"
     ]
    },
    {
     "name": "stdout",
     "output_type": "stream",
     "text": [
      "Clase 1: intento 2/20 -> agregados 20, total 40/381\n"
     ]
    },
    {
     "name": "stderr",
     "output_type": "stream",
     "text": [
      "C:\\Users\\aleja\\AppData\\Local\\Temp\\ipykernel_8460\\2858073272.py:27: FutureWarning: unique with argument that is not not a Series, Index, ExtensionArray, or np.ndarray is deprecated and will raise in a future version.\n",
      "  seeds = list(pd.unique((seeds + df_batch[\"textos\"].astype(str).tolist())))[-8:]\n"
     ]
    },
    {
     "name": "stdout",
     "output_type": "stream",
     "text": [
      "Clase 1: intento 3/20 -> agregados 20, total 60/381\n"
     ]
    },
    {
     "name": "stderr",
     "output_type": "stream",
     "text": [
      "C:\\Users\\aleja\\AppData\\Local\\Temp\\ipykernel_8460\\2858073272.py:27: FutureWarning: unique with argument that is not not a Series, Index, ExtensionArray, or np.ndarray is deprecated and will raise in a future version.\n",
      "  seeds = list(pd.unique((seeds + df_batch[\"textos\"].astype(str).tolist())))[-8:]\n"
     ]
    },
    {
     "name": "stdout",
     "output_type": "stream",
     "text": [
      "Clase 1: intento 4/20 -> agregados 20, total 80/381\n"
     ]
    },
    {
     "name": "stderr",
     "output_type": "stream",
     "text": [
      "C:\\Users\\aleja\\AppData\\Local\\Temp\\ipykernel_8460\\2858073272.py:27: FutureWarning: unique with argument that is not not a Series, Index, ExtensionArray, or np.ndarray is deprecated and will raise in a future version.\n",
      "  seeds = list(pd.unique((seeds + df_batch[\"textos\"].astype(str).tolist())))[-8:]\n"
     ]
    },
    {
     "name": "stdout",
     "output_type": "stream",
     "text": [
      "Clase 1: intento 5/20 -> agregados 20, total 100/381\n"
     ]
    },
    {
     "name": "stderr",
     "output_type": "stream",
     "text": [
      "C:\\Users\\aleja\\AppData\\Local\\Temp\\ipykernel_8460\\2858073272.py:27: FutureWarning: unique with argument that is not not a Series, Index, ExtensionArray, or np.ndarray is deprecated and will raise in a future version.\n",
      "  seeds = list(pd.unique((seeds + df_batch[\"textos\"].astype(str).tolist())))[-8:]\n"
     ]
    },
    {
     "name": "stdout",
     "output_type": "stream",
     "text": [
      "Clase 1: intento 6/20 -> agregados 20, total 120/381\n"
     ]
    },
    {
     "name": "stderr",
     "output_type": "stream",
     "text": [
      "C:\\Users\\aleja\\AppData\\Local\\Temp\\ipykernel_8460\\2858073272.py:27: FutureWarning: unique with argument that is not not a Series, Index, ExtensionArray, or np.ndarray is deprecated and will raise in a future version.\n",
      "  seeds = list(pd.unique((seeds + df_batch[\"textos\"].astype(str).tolist())))[-8:]\n"
     ]
    },
    {
     "name": "stdout",
     "output_type": "stream",
     "text": [
      "Clase 1: intento 7/20 -> agregados 20, total 140/381\n"
     ]
    },
    {
     "name": "stderr",
     "output_type": "stream",
     "text": [
      "C:\\Users\\aleja\\AppData\\Local\\Temp\\ipykernel_8460\\2858073272.py:27: FutureWarning: unique with argument that is not not a Series, Index, ExtensionArray, or np.ndarray is deprecated and will raise in a future version.\n",
      "  seeds = list(pd.unique((seeds + df_batch[\"textos\"].astype(str).tolist())))[-8:]\n"
     ]
    },
    {
     "name": "stdout",
     "output_type": "stream",
     "text": [
      "Clase 1: intento 8/20 -> agregados 20, total 160/381\n"
     ]
    },
    {
     "name": "stderr",
     "output_type": "stream",
     "text": [
      "C:\\Users\\aleja\\AppData\\Local\\Temp\\ipykernel_8460\\2858073272.py:27: FutureWarning: unique with argument that is not not a Series, Index, ExtensionArray, or np.ndarray is deprecated and will raise in a future version.\n",
      "  seeds = list(pd.unique((seeds + df_batch[\"textos\"].astype(str).tolist())))[-8:]\n"
     ]
    },
    {
     "name": "stdout",
     "output_type": "stream",
     "text": [
      "Clase 1: intento 9/20 -> agregados 20, total 180/381\n"
     ]
    },
    {
     "name": "stderr",
     "output_type": "stream",
     "text": [
      "C:\\Users\\aleja\\AppData\\Local\\Temp\\ipykernel_8460\\2858073272.py:27: FutureWarning: unique with argument that is not not a Series, Index, ExtensionArray, or np.ndarray is deprecated and will raise in a future version.\n",
      "  seeds = list(pd.unique((seeds + df_batch[\"textos\"].astype(str).tolist())))[-8:]\n"
     ]
    },
    {
     "name": "stdout",
     "output_type": "stream",
     "text": [
      "Clase 1: intento 10/20 -> agregados 20, total 200/381\n"
     ]
    },
    {
     "name": "stderr",
     "output_type": "stream",
     "text": [
      "C:\\Users\\aleja\\AppData\\Local\\Temp\\ipykernel_8460\\2858073272.py:27: FutureWarning: unique with argument that is not not a Series, Index, ExtensionArray, or np.ndarray is deprecated and will raise in a future version.\n",
      "  seeds = list(pd.unique((seeds + df_batch[\"textos\"].astype(str).tolist())))[-8:]\n"
     ]
    },
    {
     "name": "stdout",
     "output_type": "stream",
     "text": [
      "Clase 1: intento 11/20 -> agregados 20, total 220/381\n"
     ]
    },
    {
     "name": "stderr",
     "output_type": "stream",
     "text": [
      "C:\\Users\\aleja\\AppData\\Local\\Temp\\ipykernel_8460\\2858073272.py:27: FutureWarning: unique with argument that is not not a Series, Index, ExtensionArray, or np.ndarray is deprecated and will raise in a future version.\n",
      "  seeds = list(pd.unique((seeds + df_batch[\"textos\"].astype(str).tolist())))[-8:]\n"
     ]
    },
    {
     "name": "stdout",
     "output_type": "stream",
     "text": [
      "Clase 1: intento 12/20 -> agregados 20, total 240/381\n"
     ]
    },
    {
     "name": "stderr",
     "output_type": "stream",
     "text": [
      "C:\\Users\\aleja\\AppData\\Local\\Temp\\ipykernel_8460\\2858073272.py:27: FutureWarning: unique with argument that is not not a Series, Index, ExtensionArray, or np.ndarray is deprecated and will raise in a future version.\n",
      "  seeds = list(pd.unique((seeds + df_batch[\"textos\"].astype(str).tolist())))[-8:]\n"
     ]
    },
    {
     "name": "stdout",
     "output_type": "stream",
     "text": [
      "Clase 1: intento 13/20 -> agregados 20, total 260/381\n"
     ]
    },
    {
     "name": "stderr",
     "output_type": "stream",
     "text": [
      "C:\\Users\\aleja\\AppData\\Local\\Temp\\ipykernel_8460\\2858073272.py:27: FutureWarning: unique with argument that is not not a Series, Index, ExtensionArray, or np.ndarray is deprecated and will raise in a future version.\n",
      "  seeds = list(pd.unique((seeds + df_batch[\"textos\"].astype(str).tolist())))[-8:]\n"
     ]
    },
    {
     "name": "stdout",
     "output_type": "stream",
     "text": [
      "Clase 1: intento 14/20 -> agregados 20, total 280/381\n"
     ]
    },
    {
     "name": "stderr",
     "output_type": "stream",
     "text": [
      "C:\\Users\\aleja\\AppData\\Local\\Temp\\ipykernel_8460\\2858073272.py:27: FutureWarning: unique with argument that is not not a Series, Index, ExtensionArray, or np.ndarray is deprecated and will raise in a future version.\n",
      "  seeds = list(pd.unique((seeds + df_batch[\"textos\"].astype(str).tolist())))[-8:]\n"
     ]
    },
    {
     "name": "stdout",
     "output_type": "stream",
     "text": [
      "Clase 1: intento 15/20 -> agregados 20, total 300/381\n"
     ]
    },
    {
     "name": "stderr",
     "output_type": "stream",
     "text": [
      "C:\\Users\\aleja\\AppData\\Local\\Temp\\ipykernel_8460\\2858073272.py:27: FutureWarning: unique with argument that is not not a Series, Index, ExtensionArray, or np.ndarray is deprecated and will raise in a future version.\n",
      "  seeds = list(pd.unique((seeds + df_batch[\"textos\"].astype(str).tolist())))[-8:]\n"
     ]
    },
    {
     "name": "stdout",
     "output_type": "stream",
     "text": [
      "Clase 1: intento 16/20 -> agregados 20, total 320/381\n"
     ]
    },
    {
     "name": "stderr",
     "output_type": "stream",
     "text": [
      "C:\\Users\\aleja\\AppData\\Local\\Temp\\ipykernel_8460\\2858073272.py:27: FutureWarning: unique with argument that is not not a Series, Index, ExtensionArray, or np.ndarray is deprecated and will raise in a future version.\n",
      "  seeds = list(pd.unique((seeds + df_batch[\"textos\"].astype(str).tolist())))[-8:]\n"
     ]
    },
    {
     "name": "stdout",
     "output_type": "stream",
     "text": [
      "Clase 1: intento 17/20 -> agregados 20, total 340/381\n"
     ]
    },
    {
     "name": "stderr",
     "output_type": "stream",
     "text": [
      "C:\\Users\\aleja\\AppData\\Local\\Temp\\ipykernel_8460\\2858073272.py:27: FutureWarning: unique with argument that is not not a Series, Index, ExtensionArray, or np.ndarray is deprecated and will raise in a future version.\n",
      "  seeds = list(pd.unique((seeds + df_batch[\"textos\"].astype(str).tolist())))[-8:]\n"
     ]
    },
    {
     "name": "stdout",
     "output_type": "stream",
     "text": [
      "Clase 1: intento 18/20 -> agregados 20, total 360/381\n"
     ]
    },
    {
     "name": "stderr",
     "output_type": "stream",
     "text": [
      "C:\\Users\\aleja\\AppData\\Local\\Temp\\ipykernel_8460\\2858073272.py:27: FutureWarning: unique with argument that is not not a Series, Index, ExtensionArray, or np.ndarray is deprecated and will raise in a future version.\n",
      "  seeds = list(pd.unique((seeds + df_batch[\"textos\"].astype(str).tolist())))[-8:]\n"
     ]
    },
    {
     "name": "stdout",
     "output_type": "stream",
     "text": [
      "Clase 1: intento 19/20 -> agregados 20, total 380/381\n"
     ]
    },
    {
     "name": "stderr",
     "output_type": "stream",
     "text": [
      "C:\\Users\\aleja\\AppData\\Local\\Temp\\ipykernel_8460\\2858073272.py:27: FutureWarning: unique with argument that is not not a Series, Index, ExtensionArray, or np.ndarray is deprecated and will raise in a future version.\n",
      "  seeds = list(pd.unique((seeds + df_batch[\"textos\"].astype(str).tolist())))[-8:]\n"
     ]
    },
    {
     "name": "stdout",
     "output_type": "stream",
     "text": [
      "Clase 1: intento 20/20 -> agregados 5, total 385/381\n",
      "Resumen agregado por clase: {3: 118, 1: 385}\n",
      "Nuevas filas agregadas totales: 503\n",
      "\n",
      "Distribución final en train (balanceada):\n",
      "labels\n",
      "1    759\n",
      "4    755\n",
      "3    755\n",
      "Name: count, dtype: int64\n"
     ]
    },
    {
     "name": "stderr",
     "output_type": "stream",
     "text": [
      "C:\\Users\\aleja\\AppData\\Local\\Temp\\ipykernel_8460\\2858073272.py:27: FutureWarning: unique with argument that is not not a Series, Index, ExtensionArray, or np.ndarray is deprecated and will raise in a future version.\n",
      "  seeds = list(pd.unique((seeds + df_batch[\"textos\"].astype(str).tolist())))[-8:]\n"
     ]
    }
   ],
   "source": [
    "# Generar datos\n",
    "batch_size = 20\n",
    "added_summary = {}\n",
    "\n",
    "for clase, needed in targets.items():\n",
    "    added = 0\n",
    "    seeds = get_seeds_for_class(df_train_new, clase, n=8)\n",
    "    iterations = ceil(needed / batch_size)\n",
    "    for i in range(iterations):\n",
    "        remaining = needed - added\n",
    "        if remaining <= 0:\n",
    "            break\n",
    "        to_request = min(batch_size, remaining)\n",
    "        df_batch = request_examples(client, clase, seeds, to_request)\n",
    "        if df_batch.empty:\n",
    "            print(f\"[WARN] No se obtuvo respuesta válida para clase {clase} en intento {i+1}.\")\n",
    "            continue\n",
    "        df_batch[\"labels\"] = clase\n",
    "        df_batch = df_batch[cols].dropna().drop_duplicates()\n",
    "        prev_len = len(df_train_new)\n",
    "        df_train_new = pd.concat([df_train_new, df_batch], ignore_index=True)\n",
    "        df_train_new = df_train_new.drop_duplicates(subset=cols).reset_index(drop=True)\n",
    "        new_added_now = len(df_train_new) - prev_len\n",
    "        added += new_added_now\n",
    "        print(f\"Clase {clase}: intento {i+1}/{iterations} -> agregados {new_added_now}, total {added}/{needed}\")\n",
    "        time.sleep(0.5)\n",
    "        seeds = list(pd.unique((seeds + df_batch[\"textos\"].astype(str).tolist())))[-8:]\n",
    "    added_summary[clase] = added\n",
    "\n",
    "#Resultados \n",
    "added_rows = df_train_new.merge(df_before, on=cols, how=\"left\", indicator=True).loc[lambda x: x[\"_merge\"] == \"left_only\", cols]\n",
    "print(\"Resumen agregado por clase:\", added_summary)\n",
    "print(\"Nuevas filas agregadas totales:\", len(added_rows))\n",
    "\n",
    "df_train_final = df_train_new  # train real + sintético\n",
    "\n",
    "print(\"\\nDistribución final en train (balanceada):\")\n",
    "print(df_train_final[\"labels\"].value_counts())\n"
   ]
  },
  {
   "cell_type": "code",
   "execution_count": 26,
   "id": "fa3127ed",
   "metadata": {},
   "outputs": [
    {
     "name": "stdout",
     "output_type": "stream",
     "text": [
      "1766\n",
      "2269\n"
     ]
    }
   ],
   "source": [
    "print(len(df_before))\n",
    "print(len(df_train_final))"
   ]
  },
  {
   "cell_type": "code",
   "execution_count": 31,
   "id": "3e795ff5",
   "metadata": {},
   "outputs": [
    {
     "name": "stdout",
     "output_type": "stream",
     "text": [
      "Distribución de clases:\n",
      "        cantidad  porcentaje\n",
      "labels                      \n",
      "1            759        0.33\n",
      "4            755        0.33\n",
      "3            755        0.33\n"
     ]
    }
   ],
   "source": [
    "# 9. Distribución de etiquetas\n",
    "print(\"Distribución de clases:\")\n",
    "dist_df = pd.DataFrame(\n",
    "    {\n",
    "        \"cantidad\": df_train_final[\"labels\"].value_counts(),\n",
    "        \"porcentaje\": round(df_train_final[\"labels\"].value_counts() / len(df_train_final), 2),\n",
    "    }\n",
    ")\n",
    "print(dist_df)"
   ]
  },
  {
   "cell_type": "code",
   "execution_count": 32,
   "id": "88768a0a",
   "metadata": {},
   "outputs": [],
   "source": [
    "colors = {1: \"#1D8F97\", 3: \"#9bd137\", 4: \"#DA2C38\"}"
   ]
  },
  {
   "cell_type": "code",
   "execution_count": 33,
   "id": "c3540760",
   "metadata": {},
   "outputs": [
    {
     "data": {
      "image/png": "[encoded data removed]",
      "text/plain": [
       "<Figure size 640x480 with 1 Axes>"
      ]
     },
     "metadata": {},
     "output_type": "display_data"
    }
   ],
   "source": [
    "value_counts = df_train_final[\"labels\"].value_counts()\n",
    "x_values = value_counts.index\n",
    "y_values = value_counts.values\n",
    "\n",
    "sns.barplot(x=x_values, y=y_values, palette=colors, hue=x_values, legend=False)\n",
    "\n",
    "plt.title(\"Distribución de Clases\")\n",
    "plt.xlabel(\"Clases\")\n",
    "plt.ylabel(\"Frecuencia\")\n",
    "plt.show()"
   ]
  },
  {
   "cell_type": "code",
   "execution_count": 34,
   "id": "53cf4d11",
   "metadata": {},
   "outputs": [
    {
     "name": "stdout",
     "output_type": "stream",
     "text": [
      "Modelo con aumento:\n",
      "              precision    recall  f1-score   support\n",
      "\n",
      "           1       0.94      0.95      0.95       101\n",
      "           3       0.96      0.96      0.96       195\n",
      "           4       0.99      0.98      0.99       208\n",
      "\n",
      "    accuracy                           0.97       504\n",
      "   macro avg       0.96      0.97      0.96       504\n",
      "weighted avg       0.97      0.97      0.97       504\n",
      "\n"
     ]
    }
   ],
   "source": [
    "X_train_new = df_train_final[\"textos\"]\n",
    "y_train_new = df_train_final[\"labels\"]\n",
    "X_val_aug = df_val[\"textos\"]\n",
    "y_val_aug = df_val[\"labels\"]\n",
    "\n",
    "vectorizer_aug = CountVectorizer(ngram_range=(1,1))\n",
    "X_train_aug_vec = vectorizer_aug.fit_transform(X_train_new.fillna(\"\"))\n",
    "X_val_aug_vec = vectorizer_aug.transform(X_val_aug.fillna(\"\"))\n",
    "\n",
    "# Entrenamiento\n",
    "model_aug = LogisticRegression(max_iter=1000, random_state=42)\n",
    "\n",
    "model_aug.fit(X_train_aug_vec, y_train_new)\n",
    "\n",
    "y_val_pred_aug = model_aug.predict(X_val_aug_vec)\n",
    "\n",
    "print(\"Modelo con aumento:\")\n",
    "print(classification_report(y_val_aug, y_val_pred_aug))"
   ]
  }
 ],
 "metadata": {
  "kernelspec": {
   "display_name": "bi",
   "language": "python",
   "name": "python3"
  },
  "language_info": {
   "codemirror_mode": {
    "name": "ipython",
    "version": 3
   },
   "file_extension": ".py",
   "mimetype": "text/x-python",
   "name": "python",
   "nbconvert_exporter": "python",
   "pygments_lexer": "ipython3",
   "version": "3.12.9"
  }
 },
 "nbformat": 4,
 "nbformat_minor": 5
}
