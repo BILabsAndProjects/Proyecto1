{
 "cells": [
  {
   "cell_type": "code",
   "execution_count": 23,
   "id": "86246eb2",
   "metadata": {},
   "outputs": [],
   "source": [
    "import pandas as pd\n",
    "import numpy as np\n",
    "import seaborn as sns\n",
    "import matplotlib.pyplot as plt\n",
    "import nltk\n",
    "import re\n",
    "\n",
    "from langdetect import detect\n",
    "from scipy.stats import f_oneway\n",
    "from collections import Counter\n",
    "\n",
    "nltk.download(\"stopwords\", quiet=True)\n",
    "\n",
    "from nltk.stem.snowball import SpanishStemmer\n",
    "from sklearn.feature_extraction.text import CountVectorizer, TfidfVectorizer\n",
    "from sklearn.model_selection import train_test_split, GridSearchCV\n",
    "from sklearn.metrics import (\n",
    "    classification_report,\n",
    "    f1_score,\n",
    "    precision_score,\n",
    "    recall_score,\n",
    "    confusion_matrix,\n",
    "    ConfusionMatrixDisplay,\n",
    ")\n",
    "from sklearn.linear_model import LogisticRegression"
   ]
  },
  {
   "cell_type": "code",
   "execution_count": 24,
   "id": "f6f8cc99",
   "metadata": {},
   "outputs": [],
   "source": [
    "df_data = pd.read_excel(r\"datos/Datos_proyecto.xlsx\")"
   ]
  },
  {
   "cell_type": "code",
   "execution_count": 25,
   "id": "1f0e1470",
   "metadata": {},
   "outputs": [
    {
     "name": "stdout",
     "output_type": "stream",
     "text": [
      "===Count==\n",
      "textos    2424\n",
      "labels    2424\n",
      "dtype: int64\n",
      "==Datos Nulos==\n",
      "textos    0\n",
      "labels    0\n",
      "dtype: int64\n",
      "==Eliminar filas sin texto o etiqueta==\n",
      "textos    2424\n",
      "labels    2424\n",
      "dtype: int64\n",
      "==verificar si hay textos con strings vacíos==\n",
      "Número de textos vacíos: 0\n",
      "==Unicidad==\n",
      "Duplicados encontrados: 0\n",
      "== Eliminar duplicados exactos (mismo texto y misma etiqueta ==\n"
     ]
    },
    {
     "data": {
      "text/plain": [
       "textos    2424\n",
       "labels    2424\n",
       "dtype: int64"
      ]
     },
     "execution_count": 25,
     "metadata": {},
     "output_type": "execute_result"
    }
   ],
   "source": [
    "print(\"===Count==\")\n",
    "print(df_data.count())\n",
    "# Valores nulos por columna\n",
    "print(\"==Datos Nulos==\")\n",
    "print(df_data.isnull().sum())\n",
    "\n",
    "print(\"==Eliminar filas sin texto o etiqueta==\")\n",
    "df = df_data.dropna(subset=[\"textos\", \"labels\"])\n",
    "print(df.count())\n",
    "\n",
    "print(\"==verificar si hay textos con strings vacíos==\")\n",
    "num_empty = (df[\"textos\"].str.strip() == \"\").sum()\n",
    "print(\"Número de textos vacíos:\", num_empty)\n",
    "\n",
    "print(\"==Unicidad==\")\n",
    "duplicados = df.duplicated(subset=[\"textos\"])\n",
    "print(f\"Duplicados encontrados: {duplicados.sum()}\")\n",
    "\n",
    "print(\"== Eliminar duplicados exactos (mismo texto y misma etiqueta ==\")\n",
    "df = df.drop_duplicates(subset=[\"textos\", \"labels\"])\n",
    "df.count()\n"
   ]
  },
  {
   "cell_type": "code",
   "execution_count": 26,
   "id": "bc6d316d",
   "metadata": {},
   "outputs": [],
   "source": [
    "wpt = nltk.WordPunctTokenizer()\n",
    "stop_words = set(nltk.corpus.stopwords.words(\"spanish\"))\n",
    "\n",
    "spanish_stemmer = SpanishStemmer()\n",
    "\n",
    "\n",
    "def tokenize_text(text, stem=True):\n",
    "    # Elimina caracteres especiales y espacios en blanco\n",
    "    doc = re.sub(r\"[^A-Za-zÁÉÍÓÚáéíóúÜüÑñ\\s]\", \"\", text, flags=re.U)  # Unicode aware\n",
    "    doc = doc.lower()\n",
    "    doc = doc.strip()\n",
    "    # Tokenizar documento\n",
    "    tokens = wpt.tokenize(doc)\n",
    "    # Filtrar palabras\n",
    "    filtered_tokens = [\n",
    "        spanish_stemmer.stem(token) if stem else token\n",
    "        for token in tokens\n",
    "        if token not in stop_words\n",
    "    ]\n",
    "    # Recrear documento de texto\n",
    "    doc = \" \".join(filtered_tokens)\n",
    "    return doc, filtered_tokens\n",
    "\n",
    "\n",
    "normalized_df = df.copy()\n",
    "normalized_df[[\"tokenized_text\", \"tokens\"]] = normalized_df[\"textos\"].apply(\n",
    "    lambda x: pd.Series(tokenize_text(x, stem=False))\n",
    ")\n",
    "\n",
    "# recalcular word_count\n",
    "normalized_df[\"word_count\"] = normalized_df[\"textos\"].apply(\n",
    "    lambda x: len(str(x).split())\n",
    ")"
   ]
  },
  {
   "cell_type": "code",
   "execution_count": 27,
   "id": "f5f5192b",
   "metadata": {},
   "outputs": [
    {
     "name": "stdout",
     "output_type": "stream",
     "text": [
      "Distribución de clases:\n",
      "        cantidad  porcentaje\n",
      "labels                      \n",
      "4           1025        0.42\n",
      "3            894        0.37\n",
      "1            505        0.21\n"
     ]
    }
   ],
   "source": [
    "# 9. Distribución de etiquetas\n",
    "print(\"Distribución de clases:\")\n",
    "dist_df = pd.DataFrame(\n",
    "    {\n",
    "        \"cantidad\": df[\"labels\"].value_counts(),\n",
    "        \"porcentaje\": round(df[\"labels\"].value_counts() / len(df), 2),\n",
    "    }\n",
    ")\n",
    "print(dist_df)"
   ]
  },
  {
   "cell_type": "code",
   "execution_count": 28,
   "id": "98d5db0c",
   "metadata": {},
   "outputs": [],
   "source": [
    "X = normalized_df[\"tokenized_text\"]\n",
    "y = normalized_df[\"labels\"]\n",
    "X_train_text, X_test_text, y_train, y_test = train_test_split(\n",
    "    X, y, test_size=0.15, random_state=42\n",
    ")"
   ]
  },
  {
   "cell_type": "code",
   "execution_count": 29,
   "id": "70811fc4",
   "metadata": {},
   "outputs": [],
   "source": [
    "vectorizer_ngram = CountVectorizer(ngram_range=(1, 1))\n",
    "X_train = vectorizer_ngram.fit_transform(X_train_text.fillna(\"\"))\n",
    "X_test = vectorizer_ngram.transform(X_test_text.fillna(\"\"))\n",
    "\n",
    "best_model_1 = LogisticRegression(max_iter=1000, random_state=42)\n",
    "\n",
    "best_model_1.fit(X_train, y_train)\n",
    "\n",
    "y_preds = best_model_1.predict(X_test)"
   ]
  },
  {
   "cell_type": "code",
   "execution_count": 30,
   "id": "146d8918",
   "metadata": {},
   "outputs": [
    {
     "data": {
      "image/png": "[encoded data removed]",
      "text/plain": [
       "<Figure size 800x600 with 2 Axes>"
      ]
     },
     "metadata": {},
     "output_type": "display_data"
    }
   ],
   "source": [
    "\n",
    "from matplotlib.colors import LinearSegmentedColormap\n",
    "\n",
    "# Crear colormap personalizado con los colores especificados que se usan en la ppt\n",
    "colors = ['#FFFFFF', '#AEEA00', '#219A0B', '#0B4944']\n",
    "custom_cmap = LinearSegmentedColormap.from_list('custom', colors, N=256)\n",
    "\n",
    "cm = confusion_matrix(y_test, y_preds)\n",
    "\n",
    "# Visualización 1: Usando ConfusionMatrixDisplay de sklearn\n",
    "fig, ax = plt.subplots(figsize=(8, 6))\n",
    "disp = ConfusionMatrixDisplay(\n",
    "    confusion_matrix=cm, display_labels=[\"ODS 1\", \"ODS 3\", \"ODS 4\"]\n",
    ")\n",
    "disp.plot(cmap=custom_cmap, values_format=\"d\", ax=ax)\n",
    "plt.title(\n",
    "    \"Matriz de Confusión - Logistic Regression con Unigramas\",\n",
    "    fontsize=14,\n",
    "    fontweight=\"bold\",\n",
    ")\n",
    "plt.tight_layout()\n",
    "plt.show()"
   ]
  },
  {
   "cell_type": "code",
   "execution_count": 31,
   "id": "050c658a",
   "metadata": {},
   "outputs": [
    {
     "name": "stdout",
     "output_type": "stream",
     "text": [
      "              precision    recall  f1-score   support\n",
      "\n",
      "           1       0.97      0.93      0.95        82\n",
      "           3       0.96      0.99      0.98       125\n",
      "           4       0.99      0.99      0.99       157\n",
      "\n",
      "    accuracy                           0.98       364\n",
      "   macro avg       0.97      0.97      0.97       364\n",
      "weighted avg       0.98      0.98      0.98       364\n",
      "\n"
     ]
    }
   ],
   "source": [
    "print(classification_report(y_test, y_preds))"
   ]
  },
  {
   "cell_type": "code",
   "execution_count": 32,
   "id": "9b00c2cd",
   "metadata": {},
   "outputs": [],
   "source": [
    "df_data_2 = pd.read_excel(r\"datos/Datos_etapa 2.xlsx\")"
   ]
  },
  {
   "cell_type": "code",
   "execution_count": 33,
   "id": "5a041b2c",
   "metadata": {},
   "outputs": [
    {
     "name": "stdout",
     "output_type": "stream",
     "text": [
      "===Count==\n",
      "textos    99\n",
      "labels    99\n",
      "dtype: int64\n",
      "==Datos Nulos==\n",
      "textos    0\n",
      "labels    0\n",
      "dtype: int64\n",
      "==Eliminar filas sin texto o etiqueta==\n",
      "textos    99\n",
      "labels    99\n",
      "dtype: int64\n",
      "==verificar si hay textos con strings vacíos==\n",
      "Número de textos vacíos: 0\n",
      "==Unicidad==\n",
      "Duplicados encontrados: 0\n",
      "== Eliminar duplicados exactos (mismo texto y misma etiqueta ==\n"
     ]
    },
    {
     "data": {
      "text/plain": [
       "textos    99\n",
       "labels    99\n",
       "dtype: int64"
      ]
     },
     "execution_count": 33,
     "metadata": {},
     "output_type": "execute_result"
    }
   ],
   "source": [
    "print(\"===Count==\")\n",
    "print(df_data_2.count())\n",
    "# Valores nulos por columna\n",
    "print(\"==Datos Nulos==\")\n",
    "print(df_data_2.isnull().sum())\n",
    "\n",
    "print(\"==Eliminar filas sin texto o etiqueta==\")\n",
    "df2 = df_data_2.dropna(subset=[\"textos\", \"labels\"])\n",
    "print(df2.count())\n",
    "\n",
    "print(\"==verificar si hay textos con strings vacíos==\")\n",
    "num_empty = (df2[\"textos\"].str.strip() == \"\").sum()\n",
    "print(\"Número de textos vacíos:\", num_empty)\n",
    "\n",
    "print(\"==Unicidad==\")\n",
    "duplicados = df2.duplicated(subset=[\"textos\"])\n",
    "print(f\"Duplicados encontrados: {duplicados.sum()}\")\n",
    "\n",
    "print(\"== Eliminar duplicados exactos (mismo texto y misma etiqueta ==\")\n",
    "df2 = df2.drop_duplicates(subset=[\"textos\", \"labels\"])\n",
    "df2.count()\n"
   ]
  },
  {
   "cell_type": "code",
   "execution_count": 34,
   "id": "04a09bc2",
   "metadata": {},
   "outputs": [],
   "source": [
    "normalized_df2 = df2.copy()\n",
    "normalized_df2[[\"tokenized_text\", \"tokens\"]] = normalized_df2[\"textos\"].apply(\n",
    "    lambda x: pd.Series(tokenize_text(x, stem=False))\n",
    ")\n",
    "\n",
    "# recalcular word_count\n",
    "normalized_df2[\"word_count\"] = normalized_df2[\"textos\"].apply(\n",
    "    lambda x: len(str(x).split())\n",
    ")"
   ]
  },
  {
   "cell_type": "code",
   "execution_count": 35,
   "id": "986db9e4",
   "metadata": {},
   "outputs": [
    {
     "name": "stdout",
     "output_type": "stream",
     "text": [
      "Distribución de clases:\n",
      "        cantidad  porcentaje\n",
      "labels                      \n",
      "4             43        0.43\n",
      "3             35        0.35\n",
      "1             21        0.21\n"
     ]
    }
   ],
   "source": [
    "# 9. Distribución de etiquetas\n",
    "print(\"Distribución de clases:\")\n",
    "dist_df2 = pd.DataFrame(\n",
    "    {\n",
    "        \"cantidad\": df2[\"labels\"].value_counts(),\n",
    "        \"porcentaje\": round(df2[\"labels\"].value_counts() / len(df2), 2),\n",
    "    }\n",
    ")\n",
    "print(dist_df2)"
   ]
  },
  {
   "cell_type": "code",
   "execution_count": 36,
   "id": "9677273c",
   "metadata": {},
   "outputs": [],
   "source": [
    "colors = {1: \"#1D8F97\", 3: \"#9bd137\", 4: \"#DA2C38\"}"
   ]
  },
  {
   "cell_type": "code",
   "execution_count": 37,
   "id": "6c22b6a6",
   "metadata": {},
   "outputs": [
    {
     "data": {
      "image/png": "[encoded data removed]",
      "text/plain": [
       "<Figure size 640x480 with 1 Axes>"
      ]
     },
     "metadata": {},
     "output_type": "display_data"
    }
   ],
   "source": [
    "value_counts = df2[\"labels\"].value_counts()\n",
    "x_values = value_counts.index\n",
    "y_values = value_counts.values\n",
    "\n",
    "sns.barplot(x=x_values, y=y_values, palette=colors, hue=x_values, legend=False)\n",
    "\n",
    "plt.title(\"Distribución de Clases\")\n",
    "plt.xlabel(\"Clases\")\n",
    "plt.ylabel(\"Frecuencia\")\n",
    "plt.show()"
   ]
  },
  {
   "cell_type": "code",
   "execution_count": 38,
   "id": "fd4592ae",
   "metadata": {},
   "outputs": [],
   "source": [
    "X = normalized_df2[\"tokenized_text\"]\n",
    "y = normalized_df2[\"labels\"]\n",
    "X_test = X.copy()\n",
    "y_test = y.copy()\n",
    "# Ahora sí transformar el test (usar la variable correcta)\n",
    "X_test = vectorizer_ngram.transform(X_test.fillna(\"\"))\n",
    "\n",
    "# Predecir con el modelo ya entrenado\n",
    "y_preds = best_model_1.predict(X_test)"
   ]
  },
  {
   "cell_type": "code",
   "execution_count": 39,
   "id": "a3b4c4ce",
   "metadata": {},
   "outputs": [
    {
     "data": {
      "image/png": "[encoded data removed]",
      "text/plain": [
       "<Figure size 800x600 with 2 Axes>"
      ]
     },
     "metadata": {},
     "output_type": "display_data"
    }
   ],
   "source": [
    "\n",
    "from matplotlib.colors import LinearSegmentedColormap\n",
    "\n",
    "# Crear colormap personalizado con los colores especificados que se usan en la ppt\n",
    "colors = ['#FFFFFF', '#AEEA00', '#219A0B', '#0B4944']\n",
    "custom_cmap = LinearSegmentedColormap.from_list('custom', colors, N=256)\n",
    "cm = confusion_matrix(y_test, y_preds)\n",
    "\n",
    "# Visualización 1: Usando ConfusionMatrixDisplay de sklearn\n",
    "fig, ax = plt.subplots(figsize=(8, 6))\n",
    "disp = ConfusionMatrixDisplay(\n",
    "    confusion_matrix=cm, display_labels=[\"ODS 1\", \"ODS 3\", \"ODS 4\"]\n",
    ")\n",
    "disp.plot(cmap=custom_cmap, values_format=\"d\", ax=ax)\n",
    "plt.title(\n",
    "    \"Matriz de Confusión - Logistic Regression con Unigramas\",\n",
    "    fontsize=14,\n",
    "    fontweight=\"bold\",\n",
    ")\n",
    "plt.tight_layout()\n",
    "plt.show()"
   ]
  },
  {
   "cell_type": "code",
   "execution_count": 40,
   "id": "981e3eeb",
   "metadata": {},
   "outputs": [
    {
     "name": "stdout",
     "output_type": "stream",
     "text": [
      "              precision    recall  f1-score   support\n",
      "\n",
      "           1       1.00      0.67      0.80        21\n",
      "           3       0.83      1.00      0.91        35\n",
      "           4       0.93      0.93      0.93        43\n",
      "\n",
      "    accuracy                           0.90        99\n",
      "   macro avg       0.92      0.87      0.88        99\n",
      "weighted avg       0.91      0.90      0.90        99\n",
      "\n"
     ]
    }
   ],
   "source": [
    "print(classification_report(y_test,y_preds))"
   ]
  },
  {
   "cell_type": "code",
   "execution_count": 41,
   "id": "c589cbaa",
   "metadata": {},
   "outputs": [],
   "source": [
    "df_concat = pd.concat([normalized_df, normalized_df2])"
   ]
  },
  {
   "cell_type": "code",
   "execution_count": 42,
   "id": "e945acfc",
   "metadata": {},
   "outputs": [
    {
     "name": "stdout",
     "output_type": "stream",
     "text": [
      "Distribución de clases:\n",
      "        cantidad  porcentaje\n",
      "labels                      \n",
      "4           1068        0.42\n",
      "3            929        0.37\n",
      "1            526        0.21\n"
     ]
    }
   ],
   "source": [
    "print(\"Distribución de clases:\")\n",
    "dist_df = pd.DataFrame(\n",
    "    {\n",
    "        \"cantidad\": df_concat[\"labels\"].value_counts(),\n",
    "        \"porcentaje\": round(df_concat[\"labels\"].value_counts() / len(df_concat), 2),\n",
    "    }\n",
    ")\n",
    "print(dist_df)\n",
    "colors = {1: \"#1D8F97\", 3: \"#9bd137\", 4: \"#DA2C38\"}"
   ]
  },
  {
   "cell_type": "code",
   "execution_count": 43,
   "id": "0a6baa02",
   "metadata": {},
   "outputs": [],
   "source": [
    "X = df_concat[\"tokenized_text\"]\n",
    "y = df_concat[\"labels\"]\n",
    "X_train_real, X_temp, y_train_real, y_temp = train_test_split(\n",
    "    X, y, test_size=0.30, random_state=40\n",
    ")\n",
    "\n",
    "X_val_real, X_test_real, y_val_real, y_test_real = train_test_split(\n",
    "    X_temp, y_temp,\n",
    "    test_size=(1/3), \n",
    "    stratify=y_temp,\n",
    "    random_state=40\n",
    ")\n",
    "\n",
    "\n",
    "# Crear DataFrames para cada conjunto\n",
    "df_train_real = pd.DataFrame({\"textos\": X_train_real, \"labels\": y_train_real})\n",
    "df_val_real = pd.DataFrame({\"textos\": X_val_real, \"labels\": y_val_real})\n",
    "df_test_real = pd.DataFrame({\"textos\": X_test_real, \"labels\": y_test_real})"
   ]
  },
  {
   "cell_type": "code",
   "execution_count": 44,
   "id": "98ea68b9",
   "metadata": {},
   "outputs": [
    {
     "name": "stdout",
     "output_type": "stream",
     "text": [
      "Train/Val overlap: 0\n",
      "Train/Test overlap: 0\n",
      "Val/Test overlap: 0\n"
     ]
    }
   ],
   "source": [
    "train_texts = set(df_train_real[\"textos\"])\n",
    "val_texts = set(df_val_real[\"textos\"])\n",
    "test_texts = set(df_test_real[\"textos\"])\n",
    "print(\"Train/Val overlap:\", len(train_texts & val_texts))\n",
    "print(\"Train/Test overlap:\", len(train_texts & test_texts))\n",
    "print(\"Val/Test overlap:\", len(val_texts & test_texts))"
   ]
  },
  {
   "cell_type": "code",
   "execution_count": 45,
   "id": "89bb7c0b",
   "metadata": {},
   "outputs": [
    {
     "name": "stdout",
     "output_type": "stream",
     "text": [
      "Tamaños -> train: 1766 val: 504 test: 253\n",
      "Distribución original en train:\n",
      " labels\n",
      "4    755\n",
      "3    637\n",
      "1    374\n",
      "Name: count, dtype: int64\n"
     ]
    }
   ],
   "source": [
    "print(\"Tamaños -> train:\", len(df_train_real), \"val:\", len(df_val_real), \"test:\", len(df_test_real))\n",
    "print(\"Distribución original en train:\\n\", df_train_real[\"labels\"].value_counts())"
   ]
  },
  {
   "cell_type": "code",
   "execution_count": 46,
   "id": "11db2900",
   "metadata": {},
   "outputs": [
    {
     "name": "stdout",
     "output_type": "stream",
     "text": [
      "Modelo sin aumento:\n",
      "              precision    recall  f1-score   support\n",
      "\n",
      "           1       0.95      0.94      0.95       101\n",
      "           3       0.96      0.97      0.97       195\n",
      "           4       0.99      0.99      0.99       208\n",
      "\n",
      "    accuracy                           0.97       504\n",
      "   macro avg       0.97      0.97      0.97       504\n",
      "weighted avg       0.97      0.97      0.97       504\n",
      "\n"
     ]
    }
   ],
   "source": [
    "vectorizer_real = CountVectorizer(ngram_range=(1,1))\n",
    "X_train_vec_real = vectorizer_real.fit_transform(X_train_real.fillna(\"\"))\n",
    "X_val_vec_real = vectorizer_real.transform(X_val_real.fillna(\"\"))\n",
    "X_test_vec_real = vectorizer_real.transform(X_test_real.fillna(\"\"))\n",
    "\n",
    "model_real = LogisticRegression(max_iter=1000, random_state=42)\n",
    "model_real.fit(X_train_vec_real, y_train_real)\n",
    "\n",
    "y_val_pred_real = model_real.predict(X_val_vec_real)\n",
    "print(\"Modelo sin aumento:\")\n",
    "print(classification_report(y_val_real, y_val_pred_real))\n"
   ]
  },
  {
   "cell_type": "code",
   "execution_count": 47,
   "id": "4831a3dc",
   "metadata": {},
   "outputs": [],
   "source": [
    "# Crear DataFrames para cada conjunto\n",
    "df_train_real.to_excel(r\"df_retrain/datos_train.xlsx\", index=False)\n",
    "df_val_real.to_excel(r\"df_retrain/datos_val.xlsx\", index=False)\n",
    "df_test_real.to_excel(r\"df_retrain/datos_test.xlsx\", index=False)"
   ]
  }
 ],
 "metadata": {
  "kernelspec": {
   "display_name": "bi",
   "language": "python",
   "name": "python3"
  },
  "language_info": {
   "codemirror_mode": {
    "name": "ipython",
    "version": 3
   },
   "file_extension": ".py",
   "mimetype": "text/x-python",
   "name": "python",
   "nbconvert_exporter": "python",
   "pygments_lexer": "ipython3",
   "version": "3.12.9"
  }
 },
 "nbformat": 4,
 "nbformat_minor": 5
}
